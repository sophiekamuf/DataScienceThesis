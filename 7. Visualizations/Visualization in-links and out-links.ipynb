{
 "cells": [
  {
   "cell_type": "code",
   "execution_count": 1,
   "metadata": {
    "collapsed": true
   },
   "outputs": [],
   "source": [
    "import pandas as pd"
   ]
  },
  {
   "cell_type": "code",
   "execution_count": 2,
   "metadata": {
    "collapsed": true
   },
   "outputs": [],
   "source": [
    "df = pd.read_pickle('df_cleaned.pkl')"
   ]
  },
  {
   "cell_type": "code",
   "execution_count": 80,
   "metadata": {},
   "outputs": [
    {
     "data": {
      "text/html": [
       "<div>\n",
       "<style scoped>\n",
       "    .dataframe tbody tr th:only-of-type {\n",
       "        vertical-align: middle;\n",
       "    }\n",
       "\n",
       "    .dataframe tbody tr th {\n",
       "        vertical-align: top;\n",
       "    }\n",
       "\n",
       "    .dataframe thead th {\n",
       "        text-align: right;\n",
       "    }\n",
       "</style>\n",
       "<table border=\"1\" class=\"dataframe\">\n",
       "  <thead>\n",
       "    <tr style=\"text-align: right;\">\n",
       "      <th></th>\n",
       "      <th>Article</th>\n",
       "      <th>Title</th>\n",
       "      <th>Paragraphs</th>\n",
       "      <th>References_internal_clean</th>\n",
       "      <th>Paragraphs_cleaned</th>\n",
       "      <th>references_count</th>\n",
       "    </tr>\n",
       "  </thead>\n",
       "  <tbody>\n",
       "    <tr>\n",
       "      <th>1</th>\n",
       "      <td>Article 1</td>\n",
       "      <td>Scope</td>\n",
       "      <td>This Regulation lays down uniform rules concer...</td>\n",
       "      <td>[460]</td>\n",
       "      <td>This Regulation lays down uniform rules concer...</td>\n",
       "      <td>1</td>\n",
       "    </tr>\n",
       "    <tr>\n",
       "      <th>2</th>\n",
       "      <td>Article 2</td>\n",
       "      <td>Supervisory powers</td>\n",
       "      <td>For the purposes of ensuring compliance with t...</td>\n",
       "      <td>[]</td>\n",
       "      <td>For the purposes of ensuring compliance with t...</td>\n",
       "      <td>0</td>\n",
       "    </tr>\n",
       "    <tr>\n",
       "      <th>3</th>\n",
       "      <td>Article 3</td>\n",
       "      <td>Application of stricter requirements by instit...</td>\n",
       "      <td>This Regulation shall not prevent institutions...</td>\n",
       "      <td>[]</td>\n",
       "      <td>This Regulation shall not prevent institutions...</td>\n",
       "      <td>0</td>\n",
       "    </tr>\n",
       "    <tr>\n",
       "      <th>4</th>\n",
       "      <td>Article 4</td>\n",
       "      <td>Definitions</td>\n",
       "      <td>1.   For the purposes of this Regulation, the ...</td>\n",
       "      <td>[4, 2, 115, 25, 71, 301, 113, 1]</td>\n",
       "      <td>1.   For the purposes of this Regulation, the ...</td>\n",
       "      <td>8</td>\n",
       "    </tr>\n",
       "    <tr>\n",
       "      <th>5</th>\n",
       "      <td>Article 5</td>\n",
       "      <td>Definitions specific to capital requirements f...</td>\n",
       "      <td>For the purposes of Part Three, Title II, the ...</td>\n",
       "      <td>[]</td>\n",
       "      <td>For the purposes of Part Three, Title II, the ...</td>\n",
       "      <td>0</td>\n",
       "    </tr>\n",
       "  </tbody>\n",
       "</table>\n",
       "</div>"
      ],
      "text/plain": [
       "     Article                                              Title  \\\n",
       "1  Article 1                                              Scope   \n",
       "2  Article 2                                 Supervisory powers   \n",
       "3  Article 3  Application of stricter requirements by instit...   \n",
       "4  Article 4                                        Definitions   \n",
       "5  Article 5  Definitions specific to capital requirements f...   \n",
       "\n",
       "                                          Paragraphs  \\\n",
       "1  This Regulation lays down uniform rules concer...   \n",
       "2  For the purposes of ensuring compliance with t...   \n",
       "3  This Regulation shall not prevent institutions...   \n",
       "4  1.   For the purposes of this Regulation, the ...   \n",
       "5  For the purposes of Part Three, Title II, the ...   \n",
       "\n",
       "          References_internal_clean  \\\n",
       "1                             [460]   \n",
       "2                                []   \n",
       "3                                []   \n",
       "4  [4, 2, 115, 25, 71, 301, 113, 1]   \n",
       "5                                []   \n",
       "\n",
       "                                  Paragraphs_cleaned  references_count  \n",
       "1  This Regulation lays down uniform rules concer...                 1  \n",
       "2  For the purposes of ensuring compliance with t...                 0  \n",
       "3  This Regulation shall not prevent institutions...                 0  \n",
       "4  1.   For the purposes of this Regulation, the ...                 8  \n",
       "5  For the purposes of Part Three, Title II, the ...                 0  "
      ]
     },
     "execution_count": 80,
     "metadata": {},
     "output_type": "execute_result"
    }
   ],
   "source": [
    "df.head()"
   ]
  },
  {
   "cell_type": "code",
   "execution_count": 36,
   "metadata": {},
   "outputs": [],
   "source": [
    "dfList = df['References_internal_clean'].tolist()"
   ]
  },
  {
   "cell_type": "code",
   "execution_count": 37,
   "metadata": {},
   "outputs": [],
   "source": [
    "import itertools\n",
    "merged = list(itertools.chain.from_iterable(dfList))"
   ]
  },
  {
   "cell_type": "code",
   "execution_count": 38,
   "metadata": {},
   "outputs": [],
   "source": [
    "results = list(map(int, merged))"
   ]
  },
  {
   "cell_type": "code",
   "execution_count": 40,
   "metadata": {},
   "outputs": [
    {
     "name": "stdout",
     "output_type": "stream",
     "text": [
      "Counter({10: 61, 92: 29, 36: 29, 153: 18, 4: 14, 113: 14, 66: 14, 56: 12, 143: 12, 129: 12, 416: 12, 147: 11, 2: 10, 155: 10, 395: 10, 460: 9, 484: 9, 48: 9, 32: 9, 299: 9, 166: 9, 223: 9, 197: 9, 301: 8, 1: 8, 178: 8, 201: 8, 7: 7, 283: 7, 28: 7, 52: 7, 464: 7, 112: 7, 150: 7, 111: 7, 136: 7, 114: 7, 224: 7, 400: 7, 336: 7, 89: 6, 95: 6, 96: 6, 422: 6, 33: 6, 45: 6, 124: 6, 119: 6, 162: 6, 208: 6, 116: 6, 213: 6, 154: 6, 132: 6, 233: 6, 429: 6, 462: 6, 115: 5, 405: 5, 62: 5, 312: 5, 151: 5, 105: 5, 79: 5, 63: 5, 458: 5, 117: 5, 161: 5, 181: 5, 384: 5, 383: 5, 225: 5, 247: 5, 415: 5, 6: 4, 437: 4, 451: 4, 407: 4, 321: 4, 322: 4, 425: 4, 29: 4, 77: 4, 158: 4, 159: 4, 379: 4, 44: 4, 99: 4, 81: 4, 97: 4, 245: 4, 148: 4, 110: 4, 120: 4, 125: 4, 126: 4, 229: 4, 118: 4, 220: 4, 198: 4, 285: 4, 262: 4, 275: 4, 3: 4, 338: 4, 352: 4, 365: 4, 337: 4, 412: 4, 424: 4, 192: 4, 50: 4, 11: 3, 18: 3, 26: 3, 51: 3, 363: 3, 27: 3, 243: 3, 244: 3, 49: 3, 57: 3, 459: 3, 500: 3, 84: 3, 94: 3, 104: 3, 246: 3, 101: 3, 199: 3, 128: 3, 215: 3, 5: 3, 216: 3, 204: 3, 261: 3, 249: 3, 264: 3, 291: 3, 284: 3, 287: 3, 306: 3, 309: 3, 308: 3, 327: 3, 350: 3, 367: 3, 359: 3, 364: 3, 378: 3, 386: 3, 382: 3, 509: 3, 421: 3, 486: 3, 25: 2, 508: 2, 438: 2, 450: 2, 8: 2, 78: 2, 59: 2, 69: 2, 103: 2, 34: 2, 121: 2, 152: 2, 202: 2, 217: 2, 184: 2, 183: 2, 24: 2, 428: 2, 206: 2, 207: 2, 214: 2, 292: 2, 227: 2, 221: 2, 250: 2, 252: 2, 255: 2, 282: 2, 273: 2, 286: 2, 296: 2, 295: 2, 274: 2, 222: 2, 310: 2, 305: 2, 107: 2, 320: 2, 85: 2, 317: 2, 328: 2, 339: 2, 353: 2, 360: 2, 377: 2, 369: 2, 370: 2, 397: 2, 9: 2, 408: 2, 409: 2, 406: 2, 418: 2, 417: 2, 423: 2, 20: 2, 427: 2, 47: 2, 272: 2, 411: 2, 430: 2, 392: 2, 431: 2, 35: 2, 467: 2, 468: 2, 469: 2, 481: 2, 474: 2, 476: 2, 483: 2, 489: 2, 490: 2, 71: 1, 19: 1, 90: 1, 91: 1, 21: 1, 440: 1, 442: 1, 453: 1, 15: 1, 80: 1, 258: 1, 42: 1, 67: 1, 93: 1, 102: 1, 251: 1, 259: 1, 266: 1, 131: 1, 157: 1, 1472: 1, 165: 1, 164: 1, 160: 1, 170: 1, 127: 1, 180: 1, 182: 1, 174: 1, 171: 1, 172: 1, 173: 1, 179: 1, 203: 1, 196: 1, 210: 1, 230: 1, 211: 1, 209: 1, 232: 1, 134: 1, 194: 1, 294: 1, 212: 1, 200: 1, 226: 1, 238: 1, 240: 1, 268: 1, 257: 1, 253: 1, 235: 1, 256: 1, 260: 1, 361: 1, 280: 1, 276: 1, 293: 1, 288: 1, 298: 1, 297: 1, 307: 1, 304: 1, 319: 1, 316: 1, 318: 1, 324: 1, 346: 1, 348: 1, 356: 1, 358: 1, 366: 1, 332: 1, 373: 1, 368: 1, 345: 1, 399: 1, 396: 1, 398: 1, 401: 1, 402: 1, 390: 1, 403: 1, 394: 1, 414: 1, 510: 1, 413: 1, 420: 1, 122: 1, 43: 1, 511: 1, 432: 1, 435: 1, 248: 1, 499: 1, 142: 1, 242: 1, 300: 1, 381: 1, 123: 1, 482: 1, 193: 1, 315: 1, 325: 1, 133: 1, 456: 1, 478: 1, 472: 1, 470: 1, 475: 1, 477: 1, 87: 1, 16: 1, 64: 1, 465: 1, 387: 1, 507: 1, 496: 1, 31: 1, 14: 1})\n"
     ]
    }
   ],
   "source": [
    "import collections\n",
    "counter=collections.Counter(results)\n",
    "print(counter)"
   ]
  },
  {
   "cell_type": "code",
   "execution_count": 46,
   "metadata": {},
   "outputs": [
    {
     "name": "stdout",
     "output_type": "stream",
     "text": [
      "OrderedDict([(10, 61), (92, 29), (36, 29), (153, 18), (4, 14), (113, 14), (66, 14), (56, 12), (143, 12), (129, 12), (416, 12), (147, 11), (2, 10), (155, 10), (395, 10), (460, 9), (484, 9), (48, 9), (32, 9), (299, 9), (166, 9), (223, 9), (197, 9), (301, 8), (1, 8), (178, 8), (201, 8), (7, 7), (283, 7), (28, 7), (52, 7), (464, 7), (112, 7), (150, 7), (111, 7), (136, 7), (114, 7), (224, 7), (400, 7), (336, 7), (89, 6), (95, 6), (96, 6), (422, 6), (33, 6), (45, 6), (124, 6), (119, 6), (162, 6), (208, 6), (116, 6), (213, 6), (154, 6), (132, 6), (233, 6), (429, 6), (462, 6), (115, 5), (405, 5), (62, 5), (312, 5), (151, 5), (105, 5), (79, 5), (63, 5), (458, 5), (117, 5), (161, 5), (181, 5), (384, 5), (383, 5), (225, 5), (247, 5), (415, 5), (6, 4), (437, 4), (451, 4), (407, 4), (321, 4), (322, 4), (425, 4), (29, 4), (77, 4), (158, 4), (159, 4), (379, 4), (44, 4), (99, 4), (81, 4), (97, 4), (245, 4), (148, 4), (110, 4), (120, 4), (125, 4), (126, 4), (229, 4), (118, 4), (220, 4), (198, 4), (285, 4), (262, 4), (275, 4), (3, 4), (338, 4), (352, 4), (365, 4), (337, 4), (412, 4), (424, 4), (192, 4), (50, 4), (11, 3), (18, 3), (26, 3), (51, 3), (363, 3), (27, 3), (243, 3), (244, 3), (49, 3), (57, 3), (459, 3), (500, 3), (84, 3), (94, 3), (104, 3), (246, 3), (101, 3), (199, 3), (128, 3), (215, 3), (5, 3), (216, 3), (204, 3), (261, 3), (249, 3), (264, 3), (291, 3), (284, 3), (287, 3), (306, 3), (309, 3), (308, 3), (327, 3), (350, 3), (367, 3), (359, 3), (364, 3), (378, 3), (386, 3), (382, 3), (509, 3), (421, 3), (486, 3), (25, 2), (508, 2), (438, 2), (450, 2), (8, 2), (78, 2), (59, 2), (69, 2), (103, 2), (34, 2), (121, 2), (152, 2), (202, 2), (217, 2), (184, 2), (183, 2), (24, 2), (428, 2), (206, 2), (207, 2), (214, 2), (292, 2), (227, 2), (221, 2), (250, 2), (252, 2), (255, 2), (282, 2), (273, 2), (286, 2), (296, 2), (295, 2), (274, 2), (222, 2), (310, 2), (305, 2), (107, 2), (320, 2), (85, 2), (317, 2), (328, 2), (339, 2), (353, 2), (360, 2), (377, 2), (369, 2), (370, 2), (397, 2), (9, 2), (408, 2), (409, 2), (406, 2), (418, 2), (417, 2), (423, 2), (20, 2), (427, 2), (47, 2), (272, 2), (411, 2), (430, 2), (392, 2), (431, 2), (35, 2), (467, 2), (468, 2), (469, 2), (481, 2), (474, 2), (476, 2), (483, 2), (489, 2), (490, 2), (71, 1), (19, 1), (90, 1), (91, 1), (21, 1), (440, 1), (442, 1), (453, 1), (15, 1), (80, 1), (258, 1), (42, 1), (67, 1), (93, 1), (102, 1), (251, 1), (259, 1), (266, 1), (131, 1), (157, 1), (1472, 1), (165, 1), (164, 1), (160, 1), (170, 1), (127, 1), (180, 1), (182, 1), (174, 1), (171, 1), (172, 1), (173, 1), (179, 1), (203, 1), (196, 1), (210, 1), (230, 1), (211, 1), (209, 1), (232, 1), (134, 1), (194, 1), (294, 1), (212, 1), (200, 1), (226, 1), (238, 1), (240, 1), (268, 1), (257, 1), (253, 1), (235, 1), (256, 1), (260, 1), (361, 1), (280, 1), (276, 1), (293, 1), (288, 1), (298, 1), (297, 1), (307, 1), (304, 1), (319, 1), (316, 1), (318, 1), (324, 1), (346, 1), (348, 1), (356, 1), (358, 1), (366, 1), (332, 1), (373, 1), (368, 1), (345, 1), (399, 1), (396, 1), (398, 1), (401, 1), (402, 1), (390, 1), (403, 1), (394, 1), (414, 1), (510, 1), (413, 1), (420, 1), (122, 1), (43, 1), (511, 1), (432, 1), (435, 1), (248, 1), (499, 1), (142, 1), (242, 1), (300, 1), (381, 1), (123, 1), (482, 1), (193, 1), (315, 1), (325, 1), (133, 1), (456, 1), (478, 1), (472, 1), (470, 1), (475, 1), (477, 1), (87, 1), (16, 1), (64, 1), (465, 1), (387, 1), (507, 1), (496, 1), (31, 1), (14, 1)])\n"
     ]
    }
   ],
   "source": [
    "from collections import OrderedDict\n",
    "dd = OrderedDict(sorted(counter.items(), key=lambda x: x[1], reverse=True))\n",
    "print(dd)"
   ]
  },
  {
   "cell_type": "code",
   "execution_count": 47,
   "metadata": {
    "collapsed": true
   },
   "outputs": [],
   "source": [
    "counter = dd"
   ]
  },
  {
   "cell_type": "code",
   "execution_count": 26,
   "metadata": {},
   "outputs": [
    {
     "name": "stdout",
     "output_type": "stream",
     "text": [
      "Populating the interactive namespace from numpy and matplotlib\n"
     ]
    }
   ],
   "source": [
    "%pylab inline"
   ]
  },
  {
   "cell_type": "code",
   "execution_count": 27,
   "metadata": {
    "collapsed": true
   },
   "outputs": [],
   "source": [
    "import matplotlib.pyplot as plt"
   ]
  },
  {
   "cell_type": "code",
   "execution_count": 58,
   "metadata": {},
   "outputs": [
    {
     "data": {
      "image/png": "[encoded data removed]",
      "text/plain": [
       "<Figure size 432x288 with 1 Axes>"
      ]
     },
     "metadata": {},
     "output_type": "display_data"
    }
   ],
   "source": [
    "plt.bar(range(len(counter)), list(counter.values()), align='center')\n",
    "#plt.xticks(np.arange(0, 550, 100))\n",
    "plt.show()"
   ]
  },
  {
   "cell_type": "code",
   "execution_count": 59,
   "metadata": {},
   "outputs": [
    {
     "data": {
      "text/html": [
       "<div>\n",
       "<style scoped>\n",
       "    .dataframe tbody tr th:only-of-type {\n",
       "        vertical-align: middle;\n",
       "    }\n",
       "\n",
       "    .dataframe tbody tr th {\n",
       "        vertical-align: top;\n",
       "    }\n",
       "\n",
       "    .dataframe thead th {\n",
       "        text-align: right;\n",
       "    }\n",
       "</style>\n",
       "<table border=\"1\" class=\"dataframe\">\n",
       "  <thead>\n",
       "    <tr style=\"text-align: right;\">\n",
       "      <th></th>\n",
       "      <th>Article</th>\n",
       "      <th>Title</th>\n",
       "      <th>Paragraphs</th>\n",
       "      <th>References_internal_clean</th>\n",
       "      <th>Paragraphs_cleaned</th>\n",
       "    </tr>\n",
       "  </thead>\n",
       "  <tbody>\n",
       "    <tr>\n",
       "      <th>1</th>\n",
       "      <td>Article 1</td>\n",
       "      <td>Scope</td>\n",
       "      <td>This Regulation lays down uniform rules concer...</td>\n",
       "      <td>[460]</td>\n",
       "      <td>This Regulation lays down uniform rules concer...</td>\n",
       "    </tr>\n",
       "    <tr>\n",
       "      <th>2</th>\n",
       "      <td>Article 2</td>\n",
       "      <td>Supervisory powers</td>\n",
       "      <td>For the purposes of ensuring compliance with t...</td>\n",
       "      <td>[]</td>\n",
       "      <td>For the purposes of ensuring compliance with t...</td>\n",
       "    </tr>\n",
       "    <tr>\n",
       "      <th>3</th>\n",
       "      <td>Article 3</td>\n",
       "      <td>Application of stricter requirements by instit...</td>\n",
       "      <td>This Regulation shall not prevent institutions...</td>\n",
       "      <td>[]</td>\n",
       "      <td>This Regulation shall not prevent institutions...</td>\n",
       "    </tr>\n",
       "    <tr>\n",
       "      <th>4</th>\n",
       "      <td>Article 4</td>\n",
       "      <td>Definitions</td>\n",
       "      <td>1.   For the purposes of this Regulation, the ...</td>\n",
       "      <td>[4, 2, 115, 25, 71, 301, 113, 1]</td>\n",
       "      <td>1.   For the purposes of this Regulation, the ...</td>\n",
       "    </tr>\n",
       "    <tr>\n",
       "      <th>5</th>\n",
       "      <td>Article 5</td>\n",
       "      <td>Definitions specific to capital requirements f...</td>\n",
       "      <td>For the purposes of Part Three, Title II, the ...</td>\n",
       "      <td>[]</td>\n",
       "      <td>For the purposes of Part Three, Title II, the ...</td>\n",
       "    </tr>\n",
       "  </tbody>\n",
       "</table>\n",
       "</div>"
      ],
      "text/plain": [
       "     Article                                              Title  \\\n",
       "1  Article 1                                              Scope   \n",
       "2  Article 2                                 Supervisory powers   \n",
       "3  Article 3  Application of stricter requirements by instit...   \n",
       "4  Article 4                                        Definitions   \n",
       "5  Article 5  Definitions specific to capital requirements f...   \n",
       "\n",
       "                                          Paragraphs  \\\n",
       "1  This Regulation lays down uniform rules concer...   \n",
       "2  For the purposes of ensuring compliance with t...   \n",
       "3  This Regulation shall not prevent institutions...   \n",
       "4  1.   For the purposes of this Regulation, the ...   \n",
       "5  For the purposes of Part Three, Title II, the ...   \n",
       "\n",
       "          References_internal_clean  \\\n",
       "1                             [460]   \n",
       "2                                []   \n",
       "3                                []   \n",
       "4  [4, 2, 115, 25, 71, 301, 113, 1]   \n",
       "5                                []   \n",
       "\n",
       "                                  Paragraphs_cleaned  \n",
       "1  This Regulation lays down uniform rules concer...  \n",
       "2  For the purposes of ensuring compliance with t...  \n",
       "3  This Regulation shall not prevent institutions...  \n",
       "4  1.   For the purposes of this Regulation, the ...  \n",
       "5  For the purposes of Part Three, Title II, the ...  "
      ]
     },
     "execution_count": 59,
     "metadata": {},
     "output_type": "execute_result"
    }
   ],
   "source": [
    "df.head()"
   ]
  },
  {
   "cell_type": "code",
   "execution_count": 66,
   "metadata": {
    "collapsed": true
   },
   "outputs": [],
   "source": [
    "def count_references(references):\n",
    "    references_count = 0\n",
    "    for i in range(1, len(df)):\n",
    "        i = str(i)\n",
    "        if i in references:\n",
    "            references_count +=1\n",
    "    return references_count"
   ]
  },
  {
   "cell_type": "code",
   "execution_count": 67,
   "metadata": {},
   "outputs": [],
   "source": [
    "df['references_count'] = df['References_internal_clean'].apply(count_references).astype(int)"
   ]
  },
  {
   "cell_type": "code",
   "execution_count": 68,
   "metadata": {},
   "outputs": [
    {
     "data": {
      "text/html": [
       "<div>\n",
       "<style scoped>\n",
       "    .dataframe tbody tr th:only-of-type {\n",
       "        vertical-align: middle;\n",
       "    }\n",
       "\n",
       "    .dataframe tbody tr th {\n",
       "        vertical-align: top;\n",
       "    }\n",
       "\n",
       "    .dataframe thead th {\n",
       "        text-align: right;\n",
       "    }\n",
       "</style>\n",
       "<table border=\"1\" class=\"dataframe\">\n",
       "  <thead>\n",
       "    <tr style=\"text-align: right;\">\n",
       "      <th></th>\n",
       "      <th>Article</th>\n",
       "      <th>Title</th>\n",
       "      <th>Paragraphs</th>\n",
       "      <th>References_internal_clean</th>\n",
       "      <th>Paragraphs_cleaned</th>\n",
       "      <th>references_count</th>\n",
       "    </tr>\n",
       "  </thead>\n",
       "  <tbody>\n",
       "    <tr>\n",
       "      <th>1</th>\n",
       "      <td>Article 1</td>\n",
       "      <td>Scope</td>\n",
       "      <td>This Regulation lays down uniform rules concer...</td>\n",
       "      <td>[460]</td>\n",
       "      <td>This Regulation lays down uniform rules concer...</td>\n",
       "      <td>1</td>\n",
       "    </tr>\n",
       "    <tr>\n",
       "      <th>2</th>\n",
       "      <td>Article 2</td>\n",
       "      <td>Supervisory powers</td>\n",
       "      <td>For the purposes of ensuring compliance with t...</td>\n",
       "      <td>[]</td>\n",
       "      <td>For the purposes of ensuring compliance with t...</td>\n",
       "      <td>0</td>\n",
       "    </tr>\n",
       "    <tr>\n",
       "      <th>3</th>\n",
       "      <td>Article 3</td>\n",
       "      <td>Application of stricter requirements by instit...</td>\n",
       "      <td>This Regulation shall not prevent institutions...</td>\n",
       "      <td>[]</td>\n",
       "      <td>This Regulation shall not prevent institutions...</td>\n",
       "      <td>0</td>\n",
       "    </tr>\n",
       "    <tr>\n",
       "      <th>4</th>\n",
       "      <td>Article 4</td>\n",
       "      <td>Definitions</td>\n",
       "      <td>1.   For the purposes of this Regulation, the ...</td>\n",
       "      <td>[4, 2, 115, 25, 71, 301, 113, 1]</td>\n",
       "      <td>1.   For the purposes of this Regulation, the ...</td>\n",
       "      <td>8</td>\n",
       "    </tr>\n",
       "    <tr>\n",
       "      <th>5</th>\n",
       "      <td>Article 5</td>\n",
       "      <td>Definitions specific to capital requirements f...</td>\n",
       "      <td>For the purposes of Part Three, Title II, the ...</td>\n",
       "      <td>[]</td>\n",
       "      <td>For the purposes of Part Three, Title II, the ...</td>\n",
       "      <td>0</td>\n",
       "    </tr>\n",
       "  </tbody>\n",
       "</table>\n",
       "</div>"
      ],
      "text/plain": [
       "     Article                                              Title  \\\n",
       "1  Article 1                                              Scope   \n",
       "2  Article 2                                 Supervisory powers   \n",
       "3  Article 3  Application of stricter requirements by instit...   \n",
       "4  Article 4                                        Definitions   \n",
       "5  Article 5  Definitions specific to capital requirements f...   \n",
       "\n",
       "                                          Paragraphs  \\\n",
       "1  This Regulation lays down uniform rules concer...   \n",
       "2  For the purposes of ensuring compliance with t...   \n",
       "3  This Regulation shall not prevent institutions...   \n",
       "4  1.   For the purposes of this Regulation, the ...   \n",
       "5  For the purposes of Part Three, Title II, the ...   \n",
       "\n",
       "          References_internal_clean  \\\n",
       "1                             [460]   \n",
       "2                                []   \n",
       "3                                []   \n",
       "4  [4, 2, 115, 25, 71, 301, 113, 1]   \n",
       "5                                []   \n",
       "\n",
       "                                  Paragraphs_cleaned  references_count  \n",
       "1  This Regulation lays down uniform rules concer...                 1  \n",
       "2  For the purposes of ensuring compliance with t...                 0  \n",
       "3  This Regulation shall not prevent institutions...                 0  \n",
       "4  1.   For the purposes of this Regulation, the ...                 8  \n",
       "5  For the purposes of Part Three, Title II, the ...                 0  "
      ]
     },
     "execution_count": 68,
     "metadata": {},
     "output_type": "execute_result"
    }
   ],
   "source": [
    "df.head()\n"
   ]
  },
  {
   "cell_type": "code",
   "execution_count": 70,
   "metadata": {
    "collapsed": true
   },
   "outputs": [],
   "source": [
    "mydict = dict(zip(df.index, df.references_count))"
   ]
  },
  {
   "cell_type": "code",
   "execution_count": 74,
   "metadata": {},
   "outputs": [
    {
     "data": {
      "image/png": "[encoded data removed]",
      "text/plain": [
       "<Figure size 432x288 with 1 Axes>"
      ]
     },
     "metadata": {},
     "output_type": "display_data"
    }
   ],
   "source": [
    "plt.bar(range(len(mydict)), list(mydict.values()), align='center')\n",
    "#plt.xticks(np.arange(0, 550, 100))\n",
    "plt.show()"
   ]
  },
  {
   "cell_type": "code",
   "execution_count": 78,
   "metadata": {},
   "outputs": [
    {
     "name": "stdout",
     "output_type": "stream",
     "text": [
      "OrderedDict([(456, 27), (457, 14), (197, 12), (429, 12), (36, 11), (110, 11), (425, 11), (20, 10), (222, 10), (273, 10), (13, 9), (151, 9), (390, 9), (422, 9), (458, 9), (4, 8), (6, 8), (15, 8), (84, 8), (183, 8), (383, 8), (395, 8), (478, 8), (509, 8), (76, 7), (153, 7), (221, 7), (223, 7), (337, 7), (402, 7), (416, 7), (437, 7), (487, 7), (85, 6), (87, 6), (109, 6), (129, 6), (147, 6), (150, 6), (154, 6), (158, 6), (164, 6), (166, 6), (180, 6), (199, 6), (245, 6), (266, 6), (312, 6), (364, 6), (410, 6), (420, 6), (427, 6), (438, 6), (484, 6), (511, 6), (524, 6), (50, 5), (60, 5), (70, 5), (124, 5), (152, 5), (155, 5), (162, 5), (194, 5), (214, 5), (217, 5), (227, 5), (230, 5), (284, 5), (311, 5), (372, 5), (377, 5), (384, 5), (399, 5), (428, 5), (481, 5), (486, 5), (492, 5), (493, 5), (14, 4), (26, 4), (28, 4), (46, 4), (49, 4), (52, 4), (92, 4), (97, 4), (108, 4), (115, 4), (134, 4), (148, 4), (159, 4), (172, 4), (179, 4), (196, 4), (220, 4), (232, 4), (235, 4), (301, 4), (304, 4), (314, 4), (348, 4), (407, 4), (415, 4), (419, 4), (455, 4), (459, 4), (461, 4), (468, 4), (469, 4), (472, 4), (483, 4), (489, 4), (490, 4), (503, 4), (11, 3), (27, 3), (47, 3), (54, 3), (62, 3), (75, 3), (78, 3), (83, 3), (95, 3), (98, 3), (102, 3), (107, 3), (111, 3), (114, 3), (116, 3), (117, 3), (119, 3), (125, 3), (126, 3), (127, 3), (133, 3), (144, 3), (149, 3), (160, 3), (161, 3), (163, 3), (176, 3), (201, 3), (213, 3), (228, 3), (233, 3), (239, 3), (241, 3), (244, 3), (249, 3), (258, 3), (259, 3), (262, 3), (288, 3), (293, 3), (295, 3), (322, 3), (355, 3), (371, 3), (385, 3), (396, 3), (400, 3), (412, 3), (423, 3), (424, 3), (426, 3), (432, 3), (451, 3), (452, 3), (460, 3), (470, 3), (480, 3), (488, 3), (499, 3), (510, 3), (522, 3), (7, 2), (8, 2), (9, 2), (29, 2), (30, 2), (31, 2), (38, 2), (41, 2), (48, 2), (61, 2), (63, 2), (71, 2), (80, 2), (90, 2), (91, 2), (96, 2), (99, 2), (104, 2), (105, 2), (120, 2), (132, 2), (142, 2), (173, 2), (178, 2), (198, 2), (215, 2), (216, 2), (224, 2), (226, 2), (236, 2), (242, 2), (246, 2), (247, 2), (250, 2), (256, 2), (261, 2), (264, 2), (276, 2), (283, 2), (289, 2), (292, 2), (294, 2), (297, 2), (298, 2), (299, 2), (303, 2), (306, 2), (307, 2), (309, 2), (316, 2), (327, 2), (331, 2), (336, 2), (341, 2), (347, 2), (350, 2), (352, 2), (353, 2), (357, 2), (358, 2), (363, 2), (379, 2), (380, 2), (382, 2), (386, 2), (388, 2), (397, 2), (398, 2), (401, 2), (405, 2), (413, 2), (414, 2), (418, 2), (430, 2), (433, 2), (436, 2), (449, 2), (462, 2), (467, 2), (474, 2), (475, 2), (476, 2), (477, 2), (491, 2), (495, 2), (508, 2), (1, 1), (16, 1), (17, 1), (18, 1), (21, 1), (22, 1), (23, 1), (32, 1), (33, 1), (34, 1), (35, 1), (40, 1), (42, 1), (44, 1), (45, 1), (51, 1), (53, 1), (55, 1), (56, 1), (57, 1), (58, 1), (59, 1), (65, 1), (67, 1), (68, 1), (69, 1), (73, 1), (79, 1), (86, 1), (88, 1), (94, 1), (100, 1), (101, 1), (106, 1), (113, 1), (121, 1), (122, 1), (123, 1), (128, 1), (131, 1), (135, 1), (137, 1), (139, 1), (143, 1), (157, 1), (165, 1), (177, 1), (181, 1), (182, 1), (190, 1), (195, 1), (202, 1), (205, 1), (206, 1), (207, 1), (210, 1), (211, 1), (212, 1), (218, 1), (229, 1), (231, 1), (237, 1), (243, 1), (248, 1), (251, 1), (252, 1), (254, 1), (260, 1), (263, 1), (265, 1), (274, 1), (278, 1), (280, 1), (281, 1), (282, 1), (285, 1), (286, 1), (291, 1), (300, 1), (302, 1), (305, 1), (308, 1), (315, 1), (317, 1), (318, 1), (320, 1), (321, 1), (324, 1), (328, 1), (329, 1), (332, 1), (340, 1), (349, 1), (351, 1), (354, 1), (361, 1), (365, 1), (366, 1), (367, 1), (373, 1), (394, 1), (403, 1), (406, 1), (408, 1), (409, 1), (411, 1), (417, 1), (431, 1), (440, 1), (441, 1), (443, 1), (444, 1), (445, 1), (446, 1), (450, 1), (453, 1), (454, 1), (465, 1), (466, 1), (471, 1), (473, 1), (479, 1), (482, 1), (485, 1), (494, 1), (496, 1), (497, 1), (500, 1), (502, 1), (504, 1), (506, 1), (507, 1), (514, 1), (519, 1), (521, 1), (523, 1), (2, 0), (3, 0), (5, 0), (10, 0), (12, 0), (19, 0), (24, 0), (25, 0), (37, 0), (39, 0), (43, 0), (64, 0), (66, 0), (72, 0), (74, 0), (77, 0), (81, 0), (82, 0), (89, 0), (93, 0), (103, 0), (112, 0), (118, 0), (130, 0), (136, 0), (138, 0), (140, 0), (141, 0), (145, 0), (146, 0), (156, 0), (167, 0), (168, 0), (169, 0), (170, 0), (171, 0), (174, 0), (175, 0), (184, 0), (185, 0), (186, 0), (187, 0), (188, 0), (189, 0), (191, 0), (192, 0), (193, 0), (200, 0), (203, 0), (204, 0), (208, 0), (209, 0), (219, 0), (225, 0), (234, 0), (238, 0), (240, 0), (253, 0), (255, 0), (257, 0), (267, 0), (268, 0), (269, 0), (270, 0), (271, 0), (272, 0), (275, 0), (277, 0), (279, 0), (287, 0), (290, 0), (296, 0), (310, 0), (313, 0), (319, 0), (323, 0), (325, 0), (326, 0), (330, 0), (333, 0), (334, 0), (335, 0), (338, 0), (339, 0), (342, 0), (343, 0), (344, 0), (345, 0), (346, 0), (356, 0), (359, 0), (360, 0), (362, 0), (368, 0), (369, 0), (370, 0), (374, 0), (375, 0), (376, 0), (378, 0), (381, 0), (387, 0), (389, 0), (391, 0), (392, 0), (393, 0), (404, 0), (421, 0), (434, 0), (435, 0), (439, 0), (442, 0), (447, 0), (448, 0), (463, 0), (464, 0), (498, 0), (501, 0), (505, 0), (512, 0), (513, 0), (515, 0), (516, 0), (517, 0), (518, 0), (520, 0)])\n"
     ]
    }
   ],
   "source": [
    "from collections import OrderedDict\n",
    "dd2 = OrderedDict(sorted(mydict.items(), key=lambda x: x[1], reverse=True))\n",
    "print(dd2)"
   ]
  },
  {
   "cell_type": "code",
   "execution_count": 79,
   "metadata": {},
   "outputs": [
    {
     "data": {
      "image/png": "[encoded data removed]",
      "text/plain": [
       "<Figure size 432x288 with 1 Axes>"
      ]
     },
     "metadata": {},
     "output_type": "display_data"
    }
   ],
   "source": [
    "plt.bar(range(len(dd2)), list(dd2.values()), align='center')\n",
    "#plt.xticks(np.arange(0, 550, 100))\n",
    "plt.show()"
   ]
  },
  {
   "cell_type": "code",
   "execution_count": null,
   "metadata": {
    "collapsed": true
   },
   "outputs": [],
   "source": []
  }
 ],
 "metadata": {
  "kernelspec": {
   "display_name": "Python 3",
   "language": "python",
   "name": "python3"
  },
  "language_info": {
   "codemirror_mode": {
    "name": "ipython",
    "version": 3
   },
   "file_extension": ".py",
   "mimetype": "text/x-python",
   "name": "python",
   "nbconvert_exporter": "python",
   "pygments_lexer": "ipython3",
   "version": "3.6.3"
  }
 },
 "nbformat": 4,
 "nbformat_minor": 2
}
