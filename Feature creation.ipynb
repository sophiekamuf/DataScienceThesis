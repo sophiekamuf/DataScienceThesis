{
 "cells": [
  {
   "cell_type": "code",
   "execution_count": 1,
   "metadata": {},
   "outputs": [],
   "source": [
    "import pandas as pd"
   ]
  },
  {
   "cell_type": "code",
   "execution_count": 2,
   "metadata": {},
   "outputs": [],
   "source": [
    "df = pd.read_pickle(\"df_cleaned.pkl\")"
   ]
  },
  {
   "cell_type": "code",
   "execution_count": 3,
   "metadata": {},
   "outputs": [
    {
     "data": {
      "text/html": [
       "<div>\n",
       "<style scoped>\n",
       "    .dataframe tbody tr th:only-of-type {\n",
       "        vertical-align: middle;\n",
       "    }\n",
       "\n",
       "    .dataframe tbody tr th {\n",
       "        vertical-align: top;\n",
       "    }\n",
       "\n",
       "    .dataframe thead th {\n",
       "        text-align: right;\n",
       "    }\n",
       "</style>\n",
       "<table border=\"1\" class=\"dataframe\">\n",
       "  <thead>\n",
       "    <tr style=\"text-align: right;\">\n",
       "      <th></th>\n",
       "      <th>Article</th>\n",
       "      <th>Title</th>\n",
       "      <th>Paragraphs</th>\n",
       "      <th>References_internal_clean</th>\n",
       "      <th>Paragraphs_cleaned</th>\n",
       "    </tr>\n",
       "  </thead>\n",
       "  <tbody>\n",
       "    <tr>\n",
       "      <th>1</th>\n",
       "      <td>Article 1</td>\n",
       "      <td>Scope</td>\n",
       "      <td>This Regulation lays down uniform rules concer...</td>\n",
       "      <td>[460]</td>\n",
       "      <td>This Regulation lays down uniform rules concer...</td>\n",
       "    </tr>\n",
       "    <tr>\n",
       "      <th>2</th>\n",
       "      <td>Article 2</td>\n",
       "      <td>Supervisory powers</td>\n",
       "      <td>For the purposes of ensuring compliance with t...</td>\n",
       "      <td>[]</td>\n",
       "      <td>For the purposes of ensuring compliance with t...</td>\n",
       "    </tr>\n",
       "    <tr>\n",
       "      <th>3</th>\n",
       "      <td>Article 3</td>\n",
       "      <td>Application of stricter requirements by instit...</td>\n",
       "      <td>This Regulation shall not prevent institutions...</td>\n",
       "      <td>[]</td>\n",
       "      <td>This Regulation shall not prevent institutions...</td>\n",
       "    </tr>\n",
       "    <tr>\n",
       "      <th>4</th>\n",
       "      <td>Article 4</td>\n",
       "      <td>Definitions</td>\n",
       "      <td>1.   For the purposes of this Regulation, the ...</td>\n",
       "      <td>[4, 2, 115, 25, 71, 301, 113, 1]</td>\n",
       "      <td>1.   For the purposes of this Regulation, the ...</td>\n",
       "    </tr>\n",
       "    <tr>\n",
       "      <th>5</th>\n",
       "      <td>Article 5</td>\n",
       "      <td>Definitions specific to capital requirements f...</td>\n",
       "      <td>For the purposes of Part Three, Title II, the ...</td>\n",
       "      <td>[]</td>\n",
       "      <td>For the purposes of Part Three, Title II, the ...</td>\n",
       "    </tr>\n",
       "  </tbody>\n",
       "</table>\n",
       "</div>"
      ],
      "text/plain": [
       "     Article                                              Title  \\\n",
       "1  Article 1                                              Scope   \n",
       "2  Article 2                                 Supervisory powers   \n",
       "3  Article 3  Application of stricter requirements by instit...   \n",
       "4  Article 4                                        Definitions   \n",
       "5  Article 5  Definitions specific to capital requirements f...   \n",
       "\n",
       "                                          Paragraphs  \\\n",
       "1  This Regulation lays down uniform rules concer...   \n",
       "2  For the purposes of ensuring compliance with t...   \n",
       "3  This Regulation shall not prevent institutions...   \n",
       "4  1.   For the purposes of this Regulation, the ...   \n",
       "5  For the purposes of Part Three, Title II, the ...   \n",
       "\n",
       "          References_internal_clean  \\\n",
       "1                             [460]   \n",
       "2                                []   \n",
       "3                                []   \n",
       "4  [4, 2, 115, 25, 71, 301, 113, 1]   \n",
       "5                                []   \n",
       "\n",
       "                                  Paragraphs_cleaned  \n",
       "1  This Regulation lays down uniform rules concer...  \n",
       "2  For the purposes of ensuring compliance with t...  \n",
       "3  This Regulation shall not prevent institutions...  \n",
       "4  1.   For the purposes of this Regulation, the ...  \n",
       "5  For the purposes of Part Three, Title II, the ...  "
      ]
     },
     "execution_count": 3,
     "metadata": {},
     "output_type": "execute_result"
    }
   ],
   "source": [
    "df.head()"
   ]
  },
  {
   "cell_type": "code",
   "execution_count": 4,
   "metadata": {},
   "outputs": [],
   "source": [
    "del df['Paragraphs']"
   ]
  },
  {
   "cell_type": "code",
   "execution_count": 5,
   "metadata": {},
   "outputs": [],
   "source": [
    "def strtonumber(numbers):\n",
    "    numbers = list(map(int, numbers))\n",
    "    return numbers"
   ]
  },
  {
   "cell_type": "code",
   "execution_count": 6,
   "metadata": {},
   "outputs": [],
   "source": [
    "df['References'] = df['References_internal_clean'].apply(strtonumber)"
   ]
  },
  {
   "cell_type": "code",
   "execution_count": 7,
   "metadata": {},
   "outputs": [
    {
     "data": {
      "text/html": [
       "<div>\n",
       "<style scoped>\n",
       "    .dataframe tbody tr th:only-of-type {\n",
       "        vertical-align: middle;\n",
       "    }\n",
       "\n",
       "    .dataframe tbody tr th {\n",
       "        vertical-align: top;\n",
       "    }\n",
       "\n",
       "    .dataframe thead th {\n",
       "        text-align: right;\n",
       "    }\n",
       "</style>\n",
       "<table border=\"1\" class=\"dataframe\">\n",
       "  <thead>\n",
       "    <tr style=\"text-align: right;\">\n",
       "      <th></th>\n",
       "      <th>Article</th>\n",
       "      <th>Title</th>\n",
       "      <th>References_internal_clean</th>\n",
       "      <th>Paragraphs_cleaned</th>\n",
       "      <th>References</th>\n",
       "    </tr>\n",
       "  </thead>\n",
       "  <tbody>\n",
       "    <tr>\n",
       "      <th>1</th>\n",
       "      <td>Article 1</td>\n",
       "      <td>Scope</td>\n",
       "      <td>[460]</td>\n",
       "      <td>This Regulation lays down uniform rules concer...</td>\n",
       "      <td>[460]</td>\n",
       "    </tr>\n",
       "    <tr>\n",
       "      <th>2</th>\n",
       "      <td>Article 2</td>\n",
       "      <td>Supervisory powers</td>\n",
       "      <td>[]</td>\n",
       "      <td>For the purposes of ensuring compliance with t...</td>\n",
       "      <td>[]</td>\n",
       "    </tr>\n",
       "    <tr>\n",
       "      <th>3</th>\n",
       "      <td>Article 3</td>\n",
       "      <td>Application of stricter requirements by instit...</td>\n",
       "      <td>[]</td>\n",
       "      <td>This Regulation shall not prevent institutions...</td>\n",
       "      <td>[]</td>\n",
       "    </tr>\n",
       "    <tr>\n",
       "      <th>4</th>\n",
       "      <td>Article 4</td>\n",
       "      <td>Definitions</td>\n",
       "      <td>[4, 2, 115, 25, 71, 301, 113, 1]</td>\n",
       "      <td>1.   For the purposes of this Regulation, the ...</td>\n",
       "      <td>[4, 2, 115, 25, 71, 301, 113, 1]</td>\n",
       "    </tr>\n",
       "    <tr>\n",
       "      <th>5</th>\n",
       "      <td>Article 5</td>\n",
       "      <td>Definitions specific to capital requirements f...</td>\n",
       "      <td>[]</td>\n",
       "      <td>For the purposes of Part Three, Title II, the ...</td>\n",
       "      <td>[]</td>\n",
       "    </tr>\n",
       "  </tbody>\n",
       "</table>\n",
       "</div>"
      ],
      "text/plain": [
       "     Article                                              Title  \\\n",
       "1  Article 1                                              Scope   \n",
       "2  Article 2                                 Supervisory powers   \n",
       "3  Article 3  Application of stricter requirements by instit...   \n",
       "4  Article 4                                        Definitions   \n",
       "5  Article 5  Definitions specific to capital requirements f...   \n",
       "\n",
       "          References_internal_clean  \\\n",
       "1                             [460]   \n",
       "2                                []   \n",
       "3                                []   \n",
       "4  [4, 2, 115, 25, 71, 301, 113, 1]   \n",
       "5                                []   \n",
       "\n",
       "                                  Paragraphs_cleaned  \\\n",
       "1  This Regulation lays down uniform rules concer...   \n",
       "2  For the purposes of ensuring compliance with t...   \n",
       "3  This Regulation shall not prevent institutions...   \n",
       "4  1.   For the purposes of this Regulation, the ...   \n",
       "5  For the purposes of Part Three, Title II, the ...   \n",
       "\n",
       "                         References  \n",
       "1                             [460]  \n",
       "2                                []  \n",
       "3                                []  \n",
       "4  [4, 2, 115, 25, 71, 301, 113, 1]  \n",
       "5                                []  "
      ]
     },
     "execution_count": 7,
     "metadata": {},
     "output_type": "execute_result"
    }
   ],
   "source": [
    "df.head()"
   ]
  },
  {
   "cell_type": "code",
   "execution_count": 8,
   "metadata": {},
   "outputs": [],
   "source": [
    "frame = pd.DataFrame(columns = ['Article1', 'Article1_Paragraphs', 'Article2', 'Article2_Paragraphs'])\n",
    "frame.index = frame.index + 1"
   ]
  },
  {
   "cell_type": "code",
   "execution_count": 9,
   "metadata": {},
   "outputs": [],
   "source": [
    "articles1 = list()\n",
    "paragraphs1 = list()\n",
    "articles2 = list()\n",
    "paragraphs2 = list()\n",
    "label = list()\n",
    "articles1b = list()\n",
    "paragraphs1b = list()\n",
    "articles2b = list()\n",
    "paragraphs2b = list()\n",
    "labelb = list()\n",
    "for x in range (1, len(df)):\n",
    "    numbers = df['References_internal_clean'][x]\n",
    "    numbers = list(map(int, numbers))\n",
    "    for y in range (1, len(df)):\n",
    "        if y in numbers:\n",
    "            articles1.append(df['Article'][x])\n",
    "            paragraphs1.append(df['Paragraphs_cleaned'][x])\n",
    "            articles2.append(df['Article'][y])\n",
    "            paragraphs2.append(df['Paragraphs_cleaned'][y])\n",
    "            label.append(1)\n",
    "        else:\n",
    "            articles1b.append(df['Article'][x])\n",
    "            paragraphs1b.append(df['Paragraphs_cleaned'][x])\n",
    "            articles2b.append(df['Article'][y])\n",
    "            paragraphs2b.append(df['Paragraphs_cleaned'][y])\n",
    "            labelb.append(0)  "
   ]
  },
  {
   "cell_type": "code",
   "execution_count": 10,
   "metadata": {},
   "outputs": [],
   "source": [
    "crr_articles = { 'articles1': articles1,'paragraphs1': paragraphs1, 'articles2': articles2, 'paragraphs2': paragraphs2, 'label': label}\n",
    "\n",
    "frame = pd.DataFrame(crr_articles, columns = ['articles1', 'paragraphs1', 'articles2', 'paragraphs2', 'label'])"
   ]
  },
  {
   "cell_type": "code",
   "execution_count": 11,
   "metadata": {},
   "outputs": [],
   "source": [
    "crr_articles2 = { 'articles1': articles1b,'paragraphs1': paragraphs1b, 'articles2': articles2b, 'paragraphs2': paragraphs2b, 'label': labelb}\n",
    "\n",
    "frame2 = pd.DataFrame(crr_articles2, columns = ['articles1', 'paragraphs1', 'articles2', 'paragraphs2', 'label'])"
   ]
  },
  {
   "cell_type": "code",
   "execution_count": 12,
   "metadata": {},
   "outputs": [
    {
     "data": {
      "text/plain": [
       "272339"
      ]
     },
     "execution_count": 12,
     "metadata": {},
     "output_type": "execute_result"
    }
   ],
   "source": [
    "len(frame2)"
   ]
  },
  {
   "cell_type": "code",
   "execution_count": 13,
   "metadata": {},
   "outputs": [
    {
     "data": {
      "text/plain": [
       "1190"
      ]
     },
     "execution_count": 13,
     "metadata": {},
     "output_type": "execute_result"
    }
   ],
   "source": [
    "len(frame)"
   ]
  },
  {
   "cell_type": "code",
   "execution_count": 14,
   "metadata": {},
   "outputs": [],
   "source": [
    "frame2_sample = frame2.sample(n=1190)"
   ]
  },
  {
   "cell_type": "code",
   "execution_count": 15,
   "metadata": {},
   "outputs": [
    {
     "data": {
      "text/plain": [
       "1190"
      ]
     },
     "execution_count": 15,
     "metadata": {},
     "output_type": "execute_result"
    }
   ],
   "source": [
    "len(frame2_sample)"
   ]
  },
  {
   "cell_type": "code",
   "execution_count": 16,
   "metadata": {},
   "outputs": [
    {
     "data": {
      "text/plain": [
       "2380"
      ]
     },
     "execution_count": 16,
     "metadata": {},
     "output_type": "execute_result"
    }
   ],
   "source": [
    "frames = [frame, frame2_sample]\n",
    "result = pd.concat(frames)\n",
    "len(result)"
   ]
  },
  {
   "cell_type": "code",
   "execution_count": 17,
   "metadata": {},
   "outputs": [
    {
     "data": {
      "text/html": [
       "<div>\n",
       "<style scoped>\n",
       "    .dataframe tbody tr th:only-of-type {\n",
       "        vertical-align: middle;\n",
       "    }\n",
       "\n",
       "    .dataframe tbody tr th {\n",
       "        vertical-align: top;\n",
       "    }\n",
       "\n",
       "    .dataframe thead th {\n",
       "        text-align: right;\n",
       "    }\n",
       "</style>\n",
       "<table border=\"1\" class=\"dataframe\">\n",
       "  <thead>\n",
       "    <tr style=\"text-align: right;\">\n",
       "      <th></th>\n",
       "      <th>articles1</th>\n",
       "      <th>paragraphs1</th>\n",
       "      <th>articles2</th>\n",
       "      <th>paragraphs2</th>\n",
       "      <th>label</th>\n",
       "    </tr>\n",
       "  </thead>\n",
       "  <tbody>\n",
       "    <tr>\n",
       "      <th>0</th>\n",
       "      <td>Article 1</td>\n",
       "      <td>This Regulation lays down uniform rules concer...</td>\n",
       "      <td>Article 460</td>\n",
       "      <td>1.   The Commission shall be empowered to adop...</td>\n",
       "      <td>1</td>\n",
       "    </tr>\n",
       "    <tr>\n",
       "      <th>1</th>\n",
       "      <td>Article 4</td>\n",
       "      <td>1.   For the purposes of this Regulation, the ...</td>\n",
       "      <td>Article 1</td>\n",
       "      <td>This Regulation lays down uniform rules concer...</td>\n",
       "      <td>1</td>\n",
       "    </tr>\n",
       "    <tr>\n",
       "      <th>2</th>\n",
       "      <td>Article 4</td>\n",
       "      <td>1.   For the purposes of this Regulation, the ...</td>\n",
       "      <td>Article 2</td>\n",
       "      <td>For the purposes of ensuring compliance with t...</td>\n",
       "      <td>1</td>\n",
       "    </tr>\n",
       "    <tr>\n",
       "      <th>3</th>\n",
       "      <td>Article 4</td>\n",
       "      <td>1.   For the purposes of this Regulation, the ...</td>\n",
       "      <td>Article 4</td>\n",
       "      <td>1.   For the purposes of this Regulation, the ...</td>\n",
       "      <td>1</td>\n",
       "    </tr>\n",
       "    <tr>\n",
       "      <th>4</th>\n",
       "      <td>Article 4</td>\n",
       "      <td>1.   For the purposes of this Regulation, the ...</td>\n",
       "      <td>Article 25</td>\n",
       "      <td>The Tier 1 capital of an institution consists ...</td>\n",
       "      <td>1</td>\n",
       "    </tr>\n",
       "  </tbody>\n",
       "</table>\n",
       "</div>"
      ],
      "text/plain": [
       "   articles1                                        paragraphs1    articles2  \\\n",
       "0  Article 1  This Regulation lays down uniform rules concer...  Article 460   \n",
       "1  Article 4  1.   For the purposes of this Regulation, the ...    Article 1   \n",
       "2  Article 4  1.   For the purposes of this Regulation, the ...    Article 2   \n",
       "3  Article 4  1.   For the purposes of this Regulation, the ...    Article 4   \n",
       "4  Article 4  1.   For the purposes of this Regulation, the ...   Article 25   \n",
       "\n",
       "                                         paragraphs2  label  \n",
       "0  1.   The Commission shall be empowered to adop...      1  \n",
       "1  This Regulation lays down uniform rules concer...      1  \n",
       "2  For the purposes of ensuring compliance with t...      1  \n",
       "3  1.   For the purposes of this Regulation, the ...      1  \n",
       "4  The Tier 1 capital of an institution consists ...      1  "
      ]
     },
     "execution_count": 17,
     "metadata": {},
     "output_type": "execute_result"
    }
   ],
   "source": [
    "result.head()"
   ]
  },
  {
   "cell_type": "code",
   "execution_count": 18,
   "metadata": {},
   "outputs": [],
   "source": [
    "import re\n",
    "import math\n",
    "from collections import Counter\n",
    "\n",
    "\n",
    "def get_cosine(vec1, vec2):\n",
    "    intersection = set(vec1.keys()) & set(vec2.keys())\n",
    "    numerator = sum([vec1[x] * vec2[x] for x in intersection])\n",
    "\n",
    "    sum1 = sum([vec1[x]**2 for x in vec1.keys()])\n",
    "    sum2 = sum([vec2[x]**2 for x in vec2.keys()])\n",
    "    denominator = math.sqrt(sum1) * math.sqrt(sum2)\n",
    "\n",
    "    if not denominator:\n",
    "        return 0.0\n",
    "    else:\n",
    "        return float(numerator) / denominator\n",
    "\n",
    "\n",
    "def text_to_vector(text):\n",
    "    word = re.compile(r'\\w+')\n",
    "    words = word.findall(text)\n",
    "    return Counter(words)\n",
    "\n",
    "\n",
    "def get_result(content_a, content_b):\n",
    "    text1 = content_a\n",
    "    text2 = content_b\n",
    "\n",
    "    vector1 = text_to_vector(text1)\n",
    "    vector2 = text_to_vector(text2)\n",
    "\n",
    "    cosine_result = get_cosine(vector1, vector2)\n",
    "    return cosine_result"
   ]
  },
  {
   "cell_type": "code",
   "execution_count": 19,
   "metadata": {},
   "outputs": [],
   "source": [
    "result['cosine_similarity'] = result.apply(lambda x: get_result(x['paragraphs1'], x['paragraphs2']), axis=1)"
   ]
  },
  {
   "cell_type": "code",
   "execution_count": 20,
   "metadata": {},
   "outputs": [
    {
     "data": {
      "text/html": [
       "<div>\n",
       "<style scoped>\n",
       "    .dataframe tbody tr th:only-of-type {\n",
       "        vertical-align: middle;\n",
       "    }\n",
       "\n",
       "    .dataframe tbody tr th {\n",
       "        vertical-align: top;\n",
       "    }\n",
       "\n",
       "    .dataframe thead th {\n",
       "        text-align: right;\n",
       "    }\n",
       "</style>\n",
       "<table border=\"1\" class=\"dataframe\">\n",
       "  <thead>\n",
       "    <tr style=\"text-align: right;\">\n",
       "      <th></th>\n",
       "      <th>articles1</th>\n",
       "      <th>paragraphs1</th>\n",
       "      <th>articles2</th>\n",
       "      <th>paragraphs2</th>\n",
       "      <th>label</th>\n",
       "      <th>cosine_similarity</th>\n",
       "    </tr>\n",
       "  </thead>\n",
       "  <tbody>\n",
       "    <tr>\n",
       "      <th>0</th>\n",
       "      <td>Article 1</td>\n",
       "      <td>This Regulation lays down uniform rules concer...</td>\n",
       "      <td>Article 460</td>\n",
       "      <td>1.   The Commission shall be empowered to adop...</td>\n",
       "      <td>1</td>\n",
       "      <td>0.448342</td>\n",
       "    </tr>\n",
       "    <tr>\n",
       "      <th>1</th>\n",
       "      <td>Article 4</td>\n",
       "      <td>1.   For the purposes of this Regulation, the ...</td>\n",
       "      <td>Article 1</td>\n",
       "      <td>This Regulation lays down uniform rules concer...</td>\n",
       "      <td>1</td>\n",
       "      <td>0.482119</td>\n",
       "    </tr>\n",
       "    <tr>\n",
       "      <th>2</th>\n",
       "      <td>Article 4</td>\n",
       "      <td>1.   For the purposes of this Regulation, the ...</td>\n",
       "      <td>Article 2</td>\n",
       "      <td>For the purposes of ensuring compliance with t...</td>\n",
       "      <td>1</td>\n",
       "      <td>0.458057</td>\n",
       "    </tr>\n",
       "    <tr>\n",
       "      <th>3</th>\n",
       "      <td>Article 4</td>\n",
       "      <td>1.   For the purposes of this Regulation, the ...</td>\n",
       "      <td>Article 4</td>\n",
       "      <td>1.   For the purposes of this Regulation, the ...</td>\n",
       "      <td>1</td>\n",
       "      <td>1.000000</td>\n",
       "    </tr>\n",
       "    <tr>\n",
       "      <th>4</th>\n",
       "      <td>Article 4</td>\n",
       "      <td>1.   For the purposes of this Regulation, the ...</td>\n",
       "      <td>Article 25</td>\n",
       "      <td>The Tier 1 capital of an institution consists ...</td>\n",
       "      <td>1</td>\n",
       "      <td>0.555750</td>\n",
       "    </tr>\n",
       "  </tbody>\n",
       "</table>\n",
       "</div>"
      ],
      "text/plain": [
       "   articles1                                        paragraphs1    articles2  \\\n",
       "0  Article 1  This Regulation lays down uniform rules concer...  Article 460   \n",
       "1  Article 4  1.   For the purposes of this Regulation, the ...    Article 1   \n",
       "2  Article 4  1.   For the purposes of this Regulation, the ...    Article 2   \n",
       "3  Article 4  1.   For the purposes of this Regulation, the ...    Article 4   \n",
       "4  Article 4  1.   For the purposes of this Regulation, the ...   Article 25   \n",
       "\n",
       "                                         paragraphs2  label  cosine_similarity  \n",
       "0  1.   The Commission shall be empowered to adop...      1           0.448342  \n",
       "1  This Regulation lays down uniform rules concer...      1           0.482119  \n",
       "2  For the purposes of ensuring compliance with t...      1           0.458057  \n",
       "3  1.   For the purposes of this Regulation, the ...      1           1.000000  \n",
       "4  The Tier 1 capital of an institution consists ...      1           0.555750  "
      ]
     },
     "execution_count": 20,
     "metadata": {},
     "output_type": "execute_result"
    }
   ],
   "source": [
    "result.head()"
   ]
  },
  {
   "cell_type": "code",
   "execution_count": 21,
   "metadata": {},
   "outputs": [],
   "source": [
    "#Count common words\n",
    "def common_words(x):\n",
    "    q1, q2 = x\n",
    "    return len(set(str(q1).lower().split()) & set(str(q2).lower().split()))"
   ]
  },
  {
   "cell_type": "code",
   "execution_count": 22,
   "metadata": {},
   "outputs": [],
   "source": [
    "result['common_words'] = result[['paragraphs1', 'paragraphs2']].apply(common_words, axis=1)"
   ]
  },
  {
   "cell_type": "code",
   "execution_count": 23,
   "metadata": {},
   "outputs": [
    {
     "data": {
      "text/html": [
       "<div>\n",
       "<style scoped>\n",
       "    .dataframe tbody tr th:only-of-type {\n",
       "        vertical-align: middle;\n",
       "    }\n",
       "\n",
       "    .dataframe tbody tr th {\n",
       "        vertical-align: top;\n",
       "    }\n",
       "\n",
       "    .dataframe thead th {\n",
       "        text-align: right;\n",
       "    }\n",
       "</style>\n",
       "<table border=\"1\" class=\"dataframe\">\n",
       "  <thead>\n",
       "    <tr style=\"text-align: right;\">\n",
       "      <th></th>\n",
       "      <th>articles1</th>\n",
       "      <th>paragraphs1</th>\n",
       "      <th>articles2</th>\n",
       "      <th>paragraphs2</th>\n",
       "      <th>label</th>\n",
       "      <th>cosine_similarity</th>\n",
       "      <th>common_words</th>\n",
       "    </tr>\n",
       "  </thead>\n",
       "  <tbody>\n",
       "    <tr>\n",
       "      <th>0</th>\n",
       "      <td>Article 1</td>\n",
       "      <td>This Regulation lays down uniform rules concer...</td>\n",
       "      <td>Article 460</td>\n",
       "      <td>1.   The Commission shall be empowered to adop...</td>\n",
       "      <td>1</td>\n",
       "      <td>0.448342</td>\n",
       "      <td>29</td>\n",
       "    </tr>\n",
       "    <tr>\n",
       "      <th>1</th>\n",
       "      <td>Article 4</td>\n",
       "      <td>1.   For the purposes of this Regulation, the ...</td>\n",
       "      <td>Article 1</td>\n",
       "      <td>This Regulation lays down uniform rules concer...</td>\n",
       "      <td>1</td>\n",
       "      <td>0.482119</td>\n",
       "      <td>57</td>\n",
       "    </tr>\n",
       "    <tr>\n",
       "      <th>2</th>\n",
       "      <td>Article 4</td>\n",
       "      <td>1.   For the purposes of this Regulation, the ...</td>\n",
       "      <td>Article 2</td>\n",
       "      <td>For the purposes of ensuring compliance with t...</td>\n",
       "      <td>1</td>\n",
       "      <td>0.458057</td>\n",
       "      <td>17</td>\n",
       "    </tr>\n",
       "    <tr>\n",
       "      <th>3</th>\n",
       "      <td>Article 4</td>\n",
       "      <td>1.   For the purposes of this Regulation, the ...</td>\n",
       "      <td>Article 4</td>\n",
       "      <td>1.   For the purposes of this Regulation, the ...</td>\n",
       "      <td>1</td>\n",
       "      <td>1.000000</td>\n",
       "      <td>1423</td>\n",
       "    </tr>\n",
       "    <tr>\n",
       "      <th>4</th>\n",
       "      <td>Article 4</td>\n",
       "      <td>1.   For the purposes of this Regulation, the ...</td>\n",
       "      <td>Article 25</td>\n",
       "      <td>The Tier 1 capital of an institution consists ...</td>\n",
       "      <td>1</td>\n",
       "      <td>0.555750</td>\n",
       "      <td>13</td>\n",
       "    </tr>\n",
       "  </tbody>\n",
       "</table>\n",
       "</div>"
      ],
      "text/plain": [
       "   articles1                                        paragraphs1    articles2  \\\n",
       "0  Article 1  This Regulation lays down uniform rules concer...  Article 460   \n",
       "1  Article 4  1.   For the purposes of this Regulation, the ...    Article 1   \n",
       "2  Article 4  1.   For the purposes of this Regulation, the ...    Article 2   \n",
       "3  Article 4  1.   For the purposes of this Regulation, the ...    Article 4   \n",
       "4  Article 4  1.   For the purposes of this Regulation, the ...   Article 25   \n",
       "\n",
       "                                         paragraphs2  label  \\\n",
       "0  1.   The Commission shall be empowered to adop...      1   \n",
       "1  This Regulation lays down uniform rules concer...      1   \n",
       "2  For the purposes of ensuring compliance with t...      1   \n",
       "3  1.   For the purposes of this Regulation, the ...      1   \n",
       "4  The Tier 1 capital of an institution consists ...      1   \n",
       "\n",
       "   cosine_similarity  common_words  \n",
       "0           0.448342            29  \n",
       "1           0.482119            57  \n",
       "2           0.458057            17  \n",
       "3           1.000000          1423  \n",
       "4           0.555750            13  "
      ]
     },
     "execution_count": 23,
     "metadata": {},
     "output_type": "execute_result"
    }
   ],
   "source": [
    "result.head()"
   ]
  },
  {
   "cell_type": "code",
   "execution_count": 26,
   "metadata": {},
   "outputs": [],
   "source": [
    "result.to_pickle(\"cosine_commonwords.pkl\")"
   ]
  },
  {
   "cell_type": "code",
   "execution_count": 29,
   "metadata": {},
   "outputs": [
    {
     "name": "stderr",
     "output_type": "stream",
     "text": [
      "C:\\Users\\skamuf\\AppData\\Local\\Continuum\\anaconda3\\lib\\site-packages\\fuzzywuzzy\\fuzz.py:35: UserWarning: Using slow pure-python SequenceMatcher. Install python-Levenshtein to remove this warning\n",
      "  warnings.warn('Using slow pure-python SequenceMatcher. Install python-Levenshtein to remove this warning')\n"
     ]
    }
   ],
   "source": [
    "#Create Fuzzy features\n",
    "import fuzzywuzzy\n",
    "from fuzzywuzzy import fuzz\n",
    "result['fuzz_qratio'] = result.apply(lambda x: fuzz.QRatio(str(x['paragraphs1']), str(x['paragraphs2'])), axis=1)\n",
    "result['fuzz_WRatio'] = result.apply(lambda x: fuzz.WRatio(str(x['paragraphs1']), str(x['paragraphs2'])), axis=1) \n",
    "result['fuzz_partial_ratio'] = result.apply(lambda x: fuzz.partial_ratio(str(x['paragraphs1']), str(x['paragraphs2'])), axis=1) \n",
    "result['fuzz_partial_token_set_ratio'] = result.apply(lambda x: fuzz.partial_token_set_ratio(str(x['paragraphs1']), str(x['paragraphs2'])), axis=1)\n",
    "result['fuzz_partial_token_sort_ratio'] = result.apply(lambda x: fuzz.partial_token_sort_ratio(str(x['paragraphs1']), str(x['paragraphs2'])), axis=1) \n",
    "result['fuzz_token_set_ratio'] = result.apply(lambda x: fuzz.token_set_ratio(str(x['paragraphs1']), str(x['paragraphs2'])), axis=1)\n",
    "result['fuzz_token_sort_ratio'] = result.apply(lambda x: fuzz.token_sort_ratio(str(x['paragraphs1']), str(x['paragraphs2'])), axis=1)"
   ]
  },
  {
   "cell_type": "code",
   "execution_count": 30,
   "metadata": {},
   "outputs": [
    {
     "data": {
      "text/html": [
       "<div>\n",
       "<style scoped>\n",
       "    .dataframe tbody tr th:only-of-type {\n",
       "        vertical-align: middle;\n",
       "    }\n",
       "\n",
       "    .dataframe tbody tr th {\n",
       "        vertical-align: top;\n",
       "    }\n",
       "\n",
       "    .dataframe thead th {\n",
       "        text-align: right;\n",
       "    }\n",
       "</style>\n",
       "<table border=\"1\" class=\"dataframe\">\n",
       "  <thead>\n",
       "    <tr style=\"text-align: right;\">\n",
       "      <th></th>\n",
       "      <th>articles1</th>\n",
       "      <th>paragraphs1</th>\n",
       "      <th>articles2</th>\n",
       "      <th>paragraphs2</th>\n",
       "      <th>label</th>\n",
       "      <th>cosine_similarity</th>\n",
       "      <th>common_words</th>\n",
       "      <th>fuzz_qratio</th>\n",
       "      <th>fuzz_WRatio</th>\n",
       "      <th>fuzz_partial_ratio</th>\n",
       "      <th>fuzz_partial_token_set_ratio</th>\n",
       "      <th>fuzz_partial_token_sort_ratio</th>\n",
       "      <th>fuzz_token_set_ratio</th>\n",
       "      <th>fuzz_token_sort_ratio</th>\n",
       "    </tr>\n",
       "  </thead>\n",
       "  <tbody>\n",
       "    <tr>\n",
       "      <th>0</th>\n",
       "      <td>Article 1</td>\n",
       "      <td>This Regulation lays down uniform rules concer...</td>\n",
       "      <td>Article 460</td>\n",
       "      <td>1.   The Commission shall be empowered to adop...</td>\n",
       "      <td>1</td>\n",
       "      <td>0.448342</td>\n",
       "      <td>29</td>\n",
       "      <td>3</td>\n",
       "      <td>47</td>\n",
       "      <td>5</td>\n",
       "      <td>100</td>\n",
       "      <td>8</td>\n",
       "      <td>49</td>\n",
       "      <td>4</td>\n",
       "    </tr>\n",
       "    <tr>\n",
       "      <th>1</th>\n",
       "      <td>Article 4</td>\n",
       "      <td>1.   For the purposes of this Regulation, the ...</td>\n",
       "      <td>Article 1</td>\n",
       "      <td>This Regulation lays down uniform rules concer...</td>\n",
       "      <td>1</td>\n",
       "      <td>0.482119</td>\n",
       "      <td>57</td>\n",
       "      <td>0</td>\n",
       "      <td>57</td>\n",
       "      <td>7</td>\n",
       "      <td>100</td>\n",
       "      <td>5</td>\n",
       "      <td>84</td>\n",
       "      <td>0</td>\n",
       "    </tr>\n",
       "    <tr>\n",
       "      <th>2</th>\n",
       "      <td>Article 4</td>\n",
       "      <td>1.   For the purposes of this Regulation, the ...</td>\n",
       "      <td>Article 2</td>\n",
       "      <td>For the purposes of ensuring compliance with t...</td>\n",
       "      <td>1</td>\n",
       "      <td>0.458057</td>\n",
       "      <td>17</td>\n",
       "      <td>1</td>\n",
       "      <td>57</td>\n",
       "      <td>39</td>\n",
       "      <td>100</td>\n",
       "      <td>28</td>\n",
       "      <td>87</td>\n",
       "      <td>1</td>\n",
       "    </tr>\n",
       "    <tr>\n",
       "      <th>3</th>\n",
       "      <td>Article 4</td>\n",
       "      <td>1.   For the purposes of this Regulation, the ...</td>\n",
       "      <td>Article 4</td>\n",
       "      <td>1.   For the purposes of this Regulation, the ...</td>\n",
       "      <td>1</td>\n",
       "      <td>1.000000</td>\n",
       "      <td>1423</td>\n",
       "      <td>100</td>\n",
       "      <td>100</td>\n",
       "      <td>100</td>\n",
       "      <td>100</td>\n",
       "      <td>100</td>\n",
       "      <td>100</td>\n",
       "      <td>100</td>\n",
       "    </tr>\n",
       "    <tr>\n",
       "      <th>4</th>\n",
       "      <td>Article 4</td>\n",
       "      <td>1.   For the purposes of this Regulation, the ...</td>\n",
       "      <td>Article 25</td>\n",
       "      <td>The Tier 1 capital of an institution consists ...</td>\n",
       "      <td>1</td>\n",
       "      <td>0.555750</td>\n",
       "      <td>13</td>\n",
       "      <td>1</td>\n",
       "      <td>57</td>\n",
       "      <td>52</td>\n",
       "      <td>100</td>\n",
       "      <td>21</td>\n",
       "      <td>100</td>\n",
       "      <td>1</td>\n",
       "    </tr>\n",
       "  </tbody>\n",
       "</table>\n",
       "</div>"
      ],
      "text/plain": [
       "   articles1                                        paragraphs1    articles2  \\\n",
       "0  Article 1  This Regulation lays down uniform rules concer...  Article 460   \n",
       "1  Article 4  1.   For the purposes of this Regulation, the ...    Article 1   \n",
       "2  Article 4  1.   For the purposes of this Regulation, the ...    Article 2   \n",
       "3  Article 4  1.   For the purposes of this Regulation, the ...    Article 4   \n",
       "4  Article 4  1.   For the purposes of this Regulation, the ...   Article 25   \n",
       "\n",
       "                                         paragraphs2  label  \\\n",
       "0  1.   The Commission shall be empowered to adop...      1   \n",
       "1  This Regulation lays down uniform rules concer...      1   \n",
       "2  For the purposes of ensuring compliance with t...      1   \n",
       "3  1.   For the purposes of this Regulation, the ...      1   \n",
       "4  The Tier 1 capital of an institution consists ...      1   \n",
       "\n",
       "   cosine_similarity  common_words  fuzz_qratio  fuzz_WRatio  \\\n",
       "0           0.448342            29            3           47   \n",
       "1           0.482119            57            0           57   \n",
       "2           0.458057            17            1           57   \n",
       "3           1.000000          1423          100          100   \n",
       "4           0.555750            13            1           57   \n",
       "\n",
       "   fuzz_partial_ratio  fuzz_partial_token_set_ratio  \\\n",
       "0                   5                           100   \n",
       "1                   7                           100   \n",
       "2                  39                           100   \n",
       "3                 100                           100   \n",
       "4                  52                           100   \n",
       "\n",
       "   fuzz_partial_token_sort_ratio  fuzz_token_set_ratio  fuzz_token_sort_ratio  \n",
       "0                              8                    49                      4  \n",
       "1                              5                    84                      0  \n",
       "2                             28                    87                      1  \n",
       "3                            100                   100                    100  \n",
       "4                             21                   100                      1  "
      ]
     },
     "execution_count": 30,
     "metadata": {},
     "output_type": "execute_result"
    }
   ],
   "source": [
    "result.head()"
   ]
  },
  {
   "cell_type": "code",
   "execution_count": 31,
   "metadata": {},
   "outputs": [],
   "source": [
    "result.to_pickle(\"cosine_commonwords_fuzzy.pkl\")"
   ]
  },
  {
   "cell_type": "code",
   "execution_count": null,
   "metadata": {},
   "outputs": [],
   "source": []
  }
 ],
 "metadata": {
  "kernelspec": {
   "display_name": "Python 3",
   "language": "python",
   "name": "python3"
  },
  "language_info": {
   "codemirror_mode": {
    "name": "ipython",
    "version": 3
   },
   "file_extension": ".py",
   "mimetype": "text/x-python",
   "name": "python",
   "nbconvert_exporter": "python",
   "pygments_lexer": "ipython3",
   "version": "3.6.4"
  }
 },
 "nbformat": 4,
 "nbformat_minor": 2
}
