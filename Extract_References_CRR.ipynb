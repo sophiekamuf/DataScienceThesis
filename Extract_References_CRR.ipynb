{
 "cells": [
  {
   "cell_type": "code",
   "execution_count": 1,
   "metadata": {},
   "outputs": [],
   "source": [
    "import pandas as pd\n",
    "import requests\n",
    "from bs4 import BeautifulSoup\n",
    "import re"
   ]
  },
  {
   "cell_type": "code",
   "execution_count": 2,
   "metadata": {},
   "outputs": [],
   "source": [
    "d = {'Article': [], 'Title': [], 'Paragraphs':[]}\n",
    "df = pd.DataFrame(data=d)"
   ]
  },
  {
   "cell_type": "code",
   "execution_count": 3,
   "metadata": {},
   "outputs": [
    {
     "data": {
      "text/html": [
       "<div>\n",
       "<style scoped>\n",
       "    .dataframe tbody tr th:only-of-type {\n",
       "        vertical-align: middle;\n",
       "    }\n",
       "\n",
       "    .dataframe tbody tr th {\n",
       "        vertical-align: top;\n",
       "    }\n",
       "\n",
       "    .dataframe thead th {\n",
       "        text-align: right;\n",
       "    }\n",
       "</style>\n",
       "<table border=\"1\" class=\"dataframe\">\n",
       "  <thead>\n",
       "    <tr style=\"text-align: right;\">\n",
       "      <th></th>\n",
       "      <th>Article</th>\n",
       "      <th>Title</th>\n",
       "      <th>Paragraphs</th>\n",
       "    </tr>\n",
       "  </thead>\n",
       "  <tbody>\n",
       "  </tbody>\n",
       "</table>\n",
       "</div>"
      ],
      "text/plain": [
       "Empty DataFrame\n",
       "Columns: [Article, Title, Paragraphs]\n",
       "Index: []"
      ]
     },
     "execution_count": 3,
     "metadata": {},
     "output_type": "execute_result"
    }
   ],
   "source": [
    "# Create empty dataframe with three columns\n",
    "df=pd.DataFrame(columns = [\"Article\", \"Title\", \"Paragraphs\"])\n",
    "df"
   ]
  },
  {
   "cell_type": "code",
   "execution_count": 4,
   "metadata": {},
   "outputs": [],
   "source": [
    "# Extracts data from the CRR (HTML format) and put the articles with titles \n",
    "# and paragraphs into the DF\n",
    "\n",
    "page = requests.get(\"http://eur-lex.europa.eu/legal-content/EN/TXT/HTML/?uri=CELEX:32013R0575&from=en\")\n",
    "soup = BeautifulSoup(page.content, 'lxml')\n",
    "\n",
    "title, subtitle, para = '', '', ''\n",
    "i = 1\n",
    "for p in soup.find_all('p', class_=['ti-art', 'sti-art', 'normal']):\n",
    "    if p['class'][0] == 'ti-art':\n",
    "        if title:\n",
    "            df.loc[i] = [title, subtitle, para]\n",
    "            i+= 1\n",
    "        title = p.text\n",
    "        para = ''\n",
    "        continue\n",
    "    if p['class'][0] == 'sti-art':\n",
    "        subtitle = p.text\n",
    "        continue\n",
    "\n",
    "    para += p.text + ' '"
   ]
  },
  {
   "cell_type": "code",
   "execution_count": 5,
   "metadata": {},
   "outputs": [
    {
     "data": {
      "text/html": [
       "<div>\n",
       "<style scoped>\n",
       "    .dataframe tbody tr th:only-of-type {\n",
       "        vertical-align: middle;\n",
       "    }\n",
       "\n",
       "    .dataframe tbody tr th {\n",
       "        vertical-align: top;\n",
       "    }\n",
       "\n",
       "    .dataframe thead th {\n",
       "        text-align: right;\n",
       "    }\n",
       "</style>\n",
       "<table border=\"1\" class=\"dataframe\">\n",
       "  <thead>\n",
       "    <tr style=\"text-align: right;\">\n",
       "      <th></th>\n",
       "      <th>Article</th>\n",
       "      <th>Title</th>\n",
       "      <th>Paragraphs</th>\n",
       "    </tr>\n",
       "  </thead>\n",
       "  <tbody>\n",
       "    <tr>\n",
       "      <th>1</th>\n",
       "      <td>Article 1</td>\n",
       "      <td>Scope</td>\n",
       "      <td>This Regulation lays down uniform rules concer...</td>\n",
       "    </tr>\n",
       "    <tr>\n",
       "      <th>2</th>\n",
       "      <td>Article 2</td>\n",
       "      <td>Supervisory powers</td>\n",
       "      <td>For the purposes of ensuring compliance with t...</td>\n",
       "    </tr>\n",
       "    <tr>\n",
       "      <th>3</th>\n",
       "      <td>Article 3</td>\n",
       "      <td>Application of stricter requirements by instit...</td>\n",
       "      <td>This Regulation shall not prevent institutions...</td>\n",
       "    </tr>\n",
       "    <tr>\n",
       "      <th>4</th>\n",
       "      <td>Article 4</td>\n",
       "      <td>Definitions</td>\n",
       "      <td>1.   For the purposes of this Regulation, the ...</td>\n",
       "    </tr>\n",
       "    <tr>\n",
       "      <th>5</th>\n",
       "      <td>Article 5</td>\n",
       "      <td>Definitions specific to capital requirements f...</td>\n",
       "      <td>For the purposes of Part Three, Title II, the ...</td>\n",
       "    </tr>\n",
       "  </tbody>\n",
       "</table>\n",
       "</div>"
      ],
      "text/plain": [
       "     Article                                              Title  \\\n",
       "1  Article 1                                              Scope   \n",
       "2  Article 2                                 Supervisory powers   \n",
       "3  Article 3  Application of stricter requirements by instit...   \n",
       "4  Article 4                                        Definitions   \n",
       "5  Article 5  Definitions specific to capital requirements f...   \n",
       "\n",
       "                                          Paragraphs  \n",
       "1  This Regulation lays down uniform rules concer...  \n",
       "2  For the purposes of ensuring compliance with t...  \n",
       "3  This Regulation shall not prevent institutions...  \n",
       "4  1.   For the purposes of this Regulation, the ...  \n",
       "5  For the purposes of Part Three, Title II, the ...  "
      ]
     },
     "execution_count": 5,
     "metadata": {},
     "output_type": "execute_result"
    }
   ],
   "source": [
    "df.head()"
   ]
  },
  {
   "cell_type": "code",
   "execution_count": 6,
   "metadata": {},
   "outputs": [],
   "source": [
    "def references(text):\n",
    "    res = re.findall(r'(?=(?P<section>Articles?\\W+(\\w+)(\\(\\w+\\))?((,| and) (\\w+)(\\(\\w+\\))?)*))(?P=section)(?! of)', text)\n",
    "    res2 = re.findall(r'(?=(?P<section>Article?\\W+(\\w+)(\\(\\w+\\))))(?P=section)(?! of)', text)\n",
    "    res.append(res2)\n",
    "    return res"
   ]
  },
  {
   "cell_type": "code",
   "execution_count": 7,
   "metadata": {},
   "outputs": [],
   "source": [
    "df['References_internal'] = df['Paragraphs'].apply(references)"
   ]
  },
  {
   "cell_type": "code",
   "execution_count": 8,
   "metadata": {},
   "outputs": [
    {
     "data": {
      "text/html": [
       "<div>\n",
       "<style scoped>\n",
       "    .dataframe tbody tr th:only-of-type {\n",
       "        vertical-align: middle;\n",
       "    }\n",
       "\n",
       "    .dataframe tbody tr th {\n",
       "        vertical-align: top;\n",
       "    }\n",
       "\n",
       "    .dataframe thead th {\n",
       "        text-align: right;\n",
       "    }\n",
       "</style>\n",
       "<table border=\"1\" class=\"dataframe\">\n",
       "  <thead>\n",
       "    <tr style=\"text-align: right;\">\n",
       "      <th></th>\n",
       "      <th>Article</th>\n",
       "      <th>Title</th>\n",
       "      <th>Paragraphs</th>\n",
       "      <th>References_internal</th>\n",
       "    </tr>\n",
       "  </thead>\n",
       "  <tbody>\n",
       "    <tr>\n",
       "      <th>1</th>\n",
       "      <td>Article 1</td>\n",
       "      <td>Scope</td>\n",
       "      <td>This Regulation lays down uniform rules concer...</td>\n",
       "      <td>[(Article 460, 460, , , , , ), []]</td>\n",
       "    </tr>\n",
       "    <tr>\n",
       "      <th>2</th>\n",
       "      <td>Article 2</td>\n",
       "      <td>Supervisory powers</td>\n",
       "      <td>For the purposes of ensuring compliance with t...</td>\n",
       "      <td>[[]]</td>\n",
       "    </tr>\n",
       "    <tr>\n",
       "      <th>3</th>\n",
       "      <td>Article 3</td>\n",
       "      <td>Application of stricter requirements by instit...</td>\n",
       "      <td>This Regulation shall not prevent institutions...</td>\n",
       "      <td>[[]]</td>\n",
       "    </tr>\n",
       "    <tr>\n",
       "      <th>4</th>\n",
       "      <td>Article 4</td>\n",
       "      <td>Definitions</td>\n",
       "      <td>1.   For the purposes of this Regulation, the ...</td>\n",
       "      <td>[(Article 4(1), 4, (1), , , , ), (Article 4(1)...</td>\n",
       "    </tr>\n",
       "    <tr>\n",
       "      <th>5</th>\n",
       "      <td>Article 5</td>\n",
       "      <td>Definitions specific to capital requirements f...</td>\n",
       "      <td>For the purposes of Part Three, Title II, the ...</td>\n",
       "      <td>[[]]</td>\n",
       "    </tr>\n",
       "  </tbody>\n",
       "</table>\n",
       "</div>"
      ],
      "text/plain": [
       "     Article                                              Title  \\\n",
       "1  Article 1                                              Scope   \n",
       "2  Article 2                                 Supervisory powers   \n",
       "3  Article 3  Application of stricter requirements by instit...   \n",
       "4  Article 4                                        Definitions   \n",
       "5  Article 5  Definitions specific to capital requirements f...   \n",
       "\n",
       "                                          Paragraphs  \\\n",
       "1  This Regulation lays down uniform rules concer...   \n",
       "2  For the purposes of ensuring compliance with t...   \n",
       "3  This Regulation shall not prevent institutions...   \n",
       "4  1.   For the purposes of this Regulation, the ...   \n",
       "5  For the purposes of Part Three, Title II, the ...   \n",
       "\n",
       "                                 References_internal  \n",
       "1                 [(Article 460, 460, , , , , ), []]  \n",
       "2                                               [[]]  \n",
       "3                                               [[]]  \n",
       "4  [(Article 4(1), 4, (1), , , , ), (Article 4(1)...  \n",
       "5                                               [[]]  "
      ]
     },
     "execution_count": 8,
     "metadata": {},
     "output_type": "execute_result"
    }
   ],
   "source": [
    "df.head()"
   ]
  },
  {
   "cell_type": "code",
   "execution_count": 9,
   "metadata": {},
   "outputs": [],
   "source": [
    "def clean_references(text2):\n",
    "    res2 = re.findall('\\d+(?!\\))', text2)\n",
    "    return res2"
   ]
  },
  {
   "cell_type": "code",
   "execution_count": 10,
   "metadata": {},
   "outputs": [],
   "source": [
    "def f4(seq): \n",
    "    noDupes = []\n",
    "    [noDupes.append(i) for i in seq if not noDupes.count(i)]\n",
    "    return noDupes"
   ]
  },
  {
   "cell_type": "code",
   "execution_count": 11,
   "metadata": {},
   "outputs": [],
   "source": [
    "df['References_internal'] = df['References_internal'].astype(str)"
   ]
  },
  {
   "cell_type": "code",
   "execution_count": 12,
   "metadata": {},
   "outputs": [],
   "source": [
    "df['References_internal_clean'] = df['References_internal'].apply(clean_references)"
   ]
  },
  {
   "cell_type": "code",
   "execution_count": 13,
   "metadata": {},
   "outputs": [],
   "source": [
    "df['References_internal_clean'] = df['References_internal_clean'].apply(f4)"
   ]
  },
  {
   "cell_type": "code",
   "execution_count": 14,
   "metadata": {},
   "outputs": [
    {
     "data": {
      "text/html": [
       "<div>\n",
       "<style scoped>\n",
       "    .dataframe tbody tr th:only-of-type {\n",
       "        vertical-align: middle;\n",
       "    }\n",
       "\n",
       "    .dataframe tbody tr th {\n",
       "        vertical-align: top;\n",
       "    }\n",
       "\n",
       "    .dataframe thead th {\n",
       "        text-align: right;\n",
       "    }\n",
       "</style>\n",
       "<table border=\"1\" class=\"dataframe\">\n",
       "  <thead>\n",
       "    <tr style=\"text-align: right;\">\n",
       "      <th></th>\n",
       "      <th>Article</th>\n",
       "      <th>Title</th>\n",
       "      <th>Paragraphs</th>\n",
       "      <th>References_internal</th>\n",
       "      <th>References_internal_clean</th>\n",
       "    </tr>\n",
       "  </thead>\n",
       "  <tbody>\n",
       "    <tr>\n",
       "      <th>1</th>\n",
       "      <td>Article 1</td>\n",
       "      <td>Scope</td>\n",
       "      <td>This Regulation lays down uniform rules concer...</td>\n",
       "      <td>[('Article 460', '460', '', '', '', '', ''), []]</td>\n",
       "      <td>[460]</td>\n",
       "    </tr>\n",
       "    <tr>\n",
       "      <th>2</th>\n",
       "      <td>Article 2</td>\n",
       "      <td>Supervisory powers</td>\n",
       "      <td>For the purposes of ensuring compliance with t...</td>\n",
       "      <td>[[]]</td>\n",
       "      <td>[]</td>\n",
       "    </tr>\n",
       "    <tr>\n",
       "      <th>3</th>\n",
       "      <td>Article 3</td>\n",
       "      <td>Application of stricter requirements by instit...</td>\n",
       "      <td>This Regulation shall not prevent institutions...</td>\n",
       "      <td>[[]]</td>\n",
       "      <td>[]</td>\n",
       "    </tr>\n",
       "    <tr>\n",
       "      <th>4</th>\n",
       "      <td>Article 4</td>\n",
       "      <td>Definitions</td>\n",
       "      <td>1.   For the purposes of this Regulation, the ...</td>\n",
       "      <td>[('Article 4(1)', '4', '(1)', '', '', '', ''),...</td>\n",
       "      <td>[4, 2, 115, 25, 71, 301, 113, 1]</td>\n",
       "    </tr>\n",
       "    <tr>\n",
       "      <th>5</th>\n",
       "      <td>Article 5</td>\n",
       "      <td>Definitions specific to capital requirements f...</td>\n",
       "      <td>For the purposes of Part Three, Title II, the ...</td>\n",
       "      <td>[[]]</td>\n",
       "      <td>[]</td>\n",
       "    </tr>\n",
       "  </tbody>\n",
       "</table>\n",
       "</div>"
      ],
      "text/plain": [
       "     Article                                              Title  \\\n",
       "1  Article 1                                              Scope   \n",
       "2  Article 2                                 Supervisory powers   \n",
       "3  Article 3  Application of stricter requirements by instit...   \n",
       "4  Article 4                                        Definitions   \n",
       "5  Article 5  Definitions specific to capital requirements f...   \n",
       "\n",
       "                                          Paragraphs  \\\n",
       "1  This Regulation lays down uniform rules concer...   \n",
       "2  For the purposes of ensuring compliance with t...   \n",
       "3  This Regulation shall not prevent institutions...   \n",
       "4  1.   For the purposes of this Regulation, the ...   \n",
       "5  For the purposes of Part Three, Title II, the ...   \n",
       "\n",
       "                                 References_internal  \\\n",
       "1   [('Article 460', '460', '', '', '', '', ''), []]   \n",
       "2                                               [[]]   \n",
       "3                                               [[]]   \n",
       "4  [('Article 4(1)', '4', '(1)', '', '', '', ''),...   \n",
       "5                                               [[]]   \n",
       "\n",
       "          References_internal_clean  \n",
       "1                             [460]  \n",
       "2                                []  \n",
       "3                                []  \n",
       "4  [4, 2, 115, 25, 71, 301, 113, 1]  \n",
       "5                                []  "
      ]
     },
     "execution_count": 14,
     "metadata": {},
     "output_type": "execute_result"
    }
   ],
   "source": [
    "df.head()"
   ]
  },
  {
   "cell_type": "code",
   "execution_count": 15,
   "metadata": {},
   "outputs": [],
   "source": [
    "# Save to CSV\n",
    "header = [\"Article\", \"Title\", \"Paragraphs\", \"References_internal\", \"References_internal_clean\"]\n",
    "df.to_csv(\"CRR_regulation_references.csv\", sep=',', encoding='utf8', columns = header)"
   ]
  },
  {
   "cell_type": "code",
   "execution_count": null,
   "metadata": {},
   "outputs": [],
   "source": []
  },
  {
   "cell_type": "code",
   "execution_count": null,
   "metadata": {},
   "outputs": [],
   "source": []
  }
 ],
 "metadata": {
  "kernelspec": {
   "display_name": "Python 3",
   "language": "python",
   "name": "python3"
  },
  "language_info": {
   "codemirror_mode": {
    "name": "ipython",
    "version": 3
   },
   "file_extension": ".py",
   "mimetype": "text/x-python",
   "name": "python",
   "nbconvert_exporter": "python",
   "pygments_lexer": "ipython3",
   "version": "3.6.4"
  }
 },
 "nbformat": 4,
 "nbformat_minor": 2
}
