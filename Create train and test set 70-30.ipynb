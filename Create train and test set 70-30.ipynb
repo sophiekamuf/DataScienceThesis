{
 "cells": [
  {
   "cell_type": "code",
   "execution_count": 1,
   "metadata": {},
   "outputs": [],
   "source": [
    "import pandas as pd\n",
    "from sklearn.model_selection import train_test_split"
   ]
  },
  {
   "cell_type": "code",
   "execution_count": 2,
   "metadata": {},
   "outputs": [],
   "source": [
    "result = pd.read_pickle(\"entireDF_tfidf_lda_countvec_commonwords.pkl\")"
   ]
  },
  {
   "cell_type": "code",
   "execution_count": 3,
   "metadata": {},
   "outputs": [
    {
     "data": {
      "text/html": [
       "<div>\n",
       "<style scoped>\n",
       "    .dataframe tbody tr th:only-of-type {\n",
       "        vertical-align: middle;\n",
       "    }\n",
       "\n",
       "    .dataframe tbody tr th {\n",
       "        vertical-align: top;\n",
       "    }\n",
       "\n",
       "    .dataframe thead th {\n",
       "        text-align: right;\n",
       "    }\n",
       "</style>\n",
       "<table border=\"1\" class=\"dataframe\">\n",
       "  <thead>\n",
       "    <tr style=\"text-align: right;\">\n",
       "      <th></th>\n",
       "      <th>articles1</th>\n",
       "      <th>paragraphs1</th>\n",
       "      <th>articles2</th>\n",
       "      <th>paragraphs2</th>\n",
       "      <th>label</th>\n",
       "      <th>tfidf_cosine</th>\n",
       "      <th>count_vec_cosine</th>\n",
       "      <th>lda_cosine</th>\n",
       "      <th>common_words</th>\n",
       "    </tr>\n",
       "  </thead>\n",
       "  <tbody>\n",
       "    <tr>\n",
       "      <th>0</th>\n",
       "      <td>Article 1</td>\n",
       "      <td>This Regulation lays down uniform rules concer...</td>\n",
       "      <td>Article 460</td>\n",
       "      <td>1.   The Commission shall be empowered to adop...</td>\n",
       "      <td>1</td>\n",
       "      <td>0.159495</td>\n",
       "      <td>0.468586</td>\n",
       "      <td>0.000427</td>\n",
       "      <td>29</td>\n",
       "    </tr>\n",
       "    <tr>\n",
       "      <th>1</th>\n",
       "      <td>Article 4</td>\n",
       "      <td>1.   For the purposes of this Regulation, the ...</td>\n",
       "      <td>Article 1</td>\n",
       "      <td>This Regulation lays down uniform rules concer...</td>\n",
       "      <td>1</td>\n",
       "      <td>0.312056</td>\n",
       "      <td>0.474995</td>\n",
       "      <td>0.000236</td>\n",
       "      <td>57</td>\n",
       "    </tr>\n",
       "    <tr>\n",
       "      <th>2</th>\n",
       "      <td>Article 4</td>\n",
       "      <td>1.   For the purposes of this Regulation, the ...</td>\n",
       "      <td>Article 2</td>\n",
       "      <td>For the purposes of ensuring compliance with t...</td>\n",
       "      <td>1</td>\n",
       "      <td>0.208647</td>\n",
       "      <td>0.490329</td>\n",
       "      <td>0.001997</td>\n",
       "      <td>17</td>\n",
       "    </tr>\n",
       "    <tr>\n",
       "      <th>3</th>\n",
       "      <td>Article 4</td>\n",
       "      <td>1.   For the purposes of this Regulation, the ...</td>\n",
       "      <td>Article 4</td>\n",
       "      <td>1.   For the purposes of this Regulation, the ...</td>\n",
       "      <td>1</td>\n",
       "      <td>1.000000</td>\n",
       "      <td>1.000000</td>\n",
       "      <td>1.000000</td>\n",
       "      <td>1423</td>\n",
       "    </tr>\n",
       "    <tr>\n",
       "      <th>4</th>\n",
       "      <td>Article 4</td>\n",
       "      <td>1.   For the purposes of this Regulation, the ...</td>\n",
       "      <td>Article 25</td>\n",
       "      <td>The Tier 1 capital of an institution consists ...</td>\n",
       "      <td>1</td>\n",
       "      <td>0.309379</td>\n",
       "      <td>0.644046</td>\n",
       "      <td>0.009585</td>\n",
       "      <td>13</td>\n",
       "    </tr>\n",
       "  </tbody>\n",
       "</table>\n",
       "</div>"
      ],
      "text/plain": [
       "   articles1                                        paragraphs1    articles2  \\\n",
       "0  Article 1  This Regulation lays down uniform rules concer...  Article 460   \n",
       "1  Article 4  1.   For the purposes of this Regulation, the ...    Article 1   \n",
       "2  Article 4  1.   For the purposes of this Regulation, the ...    Article 2   \n",
       "3  Article 4  1.   For the purposes of this Regulation, the ...    Article 4   \n",
       "4  Article 4  1.   For the purposes of this Regulation, the ...   Article 25   \n",
       "\n",
       "                                         paragraphs2  label  tfidf_cosine  \\\n",
       "0  1.   The Commission shall be empowered to adop...      1      0.159495   \n",
       "1  This Regulation lays down uniform rules concer...      1      0.312056   \n",
       "2  For the purposes of ensuring compliance with t...      1      0.208647   \n",
       "3  1.   For the purposes of this Regulation, the ...      1      1.000000   \n",
       "4  The Tier 1 capital of an institution consists ...      1      0.309379   \n",
       "\n",
       "   count_vec_cosine  lda_cosine  common_words  \n",
       "0          0.468586    0.000427            29  \n",
       "1          0.474995    0.000236            57  \n",
       "2          0.490329    0.001997            17  \n",
       "3          1.000000    1.000000          1423  \n",
       "4          0.644046    0.009585            13  "
      ]
     },
     "execution_count": 3,
     "metadata": {},
     "output_type": "execute_result"
    }
   ],
   "source": [
    "result.head()"
   ]
  },
  {
   "cell_type": "code",
   "execution_count": 6,
   "metadata": {},
   "outputs": [],
   "source": [
    "feature_headers = ['tfidf_cosine', 'count_vec_cosine', 'lda_cosine', 'common_words']\n",
    "target_header = ['label']"
   ]
  },
  {
   "cell_type": "code",
   "execution_count": 7,
   "metadata": {},
   "outputs": [
    {
     "name": "stderr",
     "output_type": "stream",
     "text": [
      "C:\\Users\\skamuf\\AppData\\Local\\Continuum\\anaconda3\\lib\\site-packages\\sklearn\\model_selection\\_split.py:2026: FutureWarning: From version 0.21, test_size will always complement train_size unless both are specified.\n",
      "  FutureWarning)\n"
     ]
    }
   ],
   "source": [
    "train_x, test_x, train_y, test_y = train_test_split(result[feature_headers], result[target_header],\n",
    "                                                        train_size=0.7)"
   ]
  },
  {
   "cell_type": "code",
   "execution_count": 19,
   "metadata": {},
   "outputs": [
    {
     "name": "stdout",
     "output_type": "stream",
     "text": [
      "   label\n",
      "0  81671\n",
      "1    388\n",
      "    label\n",
      "0  190668\n",
      "1     802\n"
     ]
    }
   ],
   "source": [
    "print(test_y.apply(pd.value_counts))\n",
    "#test_y.groupby('label').count()\n",
    "print(train_y.apply(pd.value_counts))"
   ]
  },
  {
   "cell_type": "code",
   "execution_count": 22,
   "metadata": {},
   "outputs": [],
   "source": [
    "train_x.to_pickle(\"train_x_features4.pkl\")"
   ]
  },
  {
   "cell_type": "code",
   "execution_count": 23,
   "metadata": {},
   "outputs": [],
   "source": [
    "train_y.to_pickle(\"train_y_features4.pkl\")\n",
    "test_x.to_pickle(\"test_x_features4.pkl\")\n",
    "test_y.to_pickle(\"test_y_features4.pkl\")"
   ]
  },
  {
   "cell_type": "code",
   "execution_count": null,
   "metadata": {},
   "outputs": [],
   "source": []
  }
 ],
 "metadata": {
  "kernelspec": {
   "display_name": "Python 3",
   "language": "python",
   "name": "python3"
  },
  "language_info": {
   "codemirror_mode": {
    "name": "ipython",
    "version": 3
   },
   "file_extension": ".py",
   "mimetype": "text/x-python",
   "name": "python",
   "nbconvert_exporter": "python",
   "pygments_lexer": "ipython3",
   "version": "3.6.4"
  }
 },
 "nbformat": 4,
 "nbformat_minor": 2
}
