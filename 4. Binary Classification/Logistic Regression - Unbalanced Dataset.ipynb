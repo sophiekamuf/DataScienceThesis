{
 "cells": [
  {
   "cell_type": "code",
   "execution_count": 10,
   "metadata": {},
   "outputs": [],
   "source": [
    "import pandas as pd\n",
    "from sklearn.model_selection import train_test_split\n",
    "from sklearn.ensemble import RandomForestClassifier\n",
    "from sklearn.metrics import accuracy_score\n",
    "from sklearn.metrics import confusion_matrix\n",
    "from sklearn.ensemble import RandomForestRegressor "
   ]
  },
  {
   "cell_type": "code",
   "execution_count": 11,
   "metadata": {},
   "outputs": [],
   "source": [
    "result = pd.read_pickle(\"unbalanced_dataset_features.pkl\")"
   ]
  },
  {
   "cell_type": "code",
   "execution_count": 12,
   "metadata": {},
   "outputs": [
    {
     "data": {
      "text/html": [
       "<div>\n",
       "<style scoped>\n",
       "    .dataframe tbody tr th:only-of-type {\n",
       "        vertical-align: middle;\n",
       "    }\n",
       "\n",
       "    .dataframe tbody tr th {\n",
       "        vertical-align: top;\n",
       "    }\n",
       "\n",
       "    .dataframe thead th {\n",
       "        text-align: right;\n",
       "    }\n",
       "</style>\n",
       "<table border=\"1\" class=\"dataframe\">\n",
       "  <thead>\n",
       "    <tr style=\"text-align: right;\">\n",
       "      <th></th>\n",
       "      <th>articles1</th>\n",
       "      <th>paragraphs1</th>\n",
       "      <th>articles2</th>\n",
       "      <th>paragraphs2</th>\n",
       "      <th>label</th>\n",
       "      <th>cosine_similarity</th>\n",
       "      <th>common_words</th>\n",
       "    </tr>\n",
       "  </thead>\n",
       "  <tbody>\n",
       "    <tr>\n",
       "      <th>0</th>\n",
       "      <td>Article 1</td>\n",
       "      <td>This Regulation lays down uniform rules concer...</td>\n",
       "      <td>Article 460</td>\n",
       "      <td>1.   The Commission shall be empowered to adop...</td>\n",
       "      <td>1</td>\n",
       "      <td>0.448342</td>\n",
       "      <td>29</td>\n",
       "    </tr>\n",
       "    <tr>\n",
       "      <th>1</th>\n",
       "      <td>Article 4</td>\n",
       "      <td>1.   For the purposes of this Regulation, the ...</td>\n",
       "      <td>Article 1</td>\n",
       "      <td>This Regulation lays down uniform rules concer...</td>\n",
       "      <td>1</td>\n",
       "      <td>0.482119</td>\n",
       "      <td>57</td>\n",
       "    </tr>\n",
       "    <tr>\n",
       "      <th>2</th>\n",
       "      <td>Article 4</td>\n",
       "      <td>1.   For the purposes of this Regulation, the ...</td>\n",
       "      <td>Article 2</td>\n",
       "      <td>For the purposes of ensuring compliance with t...</td>\n",
       "      <td>1</td>\n",
       "      <td>0.458057</td>\n",
       "      <td>17</td>\n",
       "    </tr>\n",
       "    <tr>\n",
       "      <th>3</th>\n",
       "      <td>Article 4</td>\n",
       "      <td>1.   For the purposes of this Regulation, the ...</td>\n",
       "      <td>Article 4</td>\n",
       "      <td>1.   For the purposes of this Regulation, the ...</td>\n",
       "      <td>1</td>\n",
       "      <td>1.000000</td>\n",
       "      <td>1423</td>\n",
       "    </tr>\n",
       "    <tr>\n",
       "      <th>4</th>\n",
       "      <td>Article 4</td>\n",
       "      <td>1.   For the purposes of this Regulation, the ...</td>\n",
       "      <td>Article 25</td>\n",
       "      <td>The Tier 1 capital of an institution consists ...</td>\n",
       "      <td>1</td>\n",
       "      <td>0.555750</td>\n",
       "      <td>13</td>\n",
       "    </tr>\n",
       "  </tbody>\n",
       "</table>\n",
       "</div>"
      ],
      "text/plain": [
       "   articles1                                        paragraphs1    articles2  \\\n",
       "0  Article 1  This Regulation lays down uniform rules concer...  Article 460   \n",
       "1  Article 4  1.   For the purposes of this Regulation, the ...    Article 1   \n",
       "2  Article 4  1.   For the purposes of this Regulation, the ...    Article 2   \n",
       "3  Article 4  1.   For the purposes of this Regulation, the ...    Article 4   \n",
       "4  Article 4  1.   For the purposes of this Regulation, the ...   Article 25   \n",
       "\n",
       "                                         paragraphs2  label  \\\n",
       "0  1.   The Commission shall be empowered to adop...      1   \n",
       "1  This Regulation lays down uniform rules concer...      1   \n",
       "2  For the purposes of ensuring compliance with t...      1   \n",
       "3  1.   For the purposes of this Regulation, the ...      1   \n",
       "4  The Tier 1 capital of an institution consists ...      1   \n",
       "\n",
       "   cosine_similarity  common_words  \n",
       "0           0.448342            29  \n",
       "1           0.482119            57  \n",
       "2           0.458057            17  \n",
       "3           1.000000          1423  \n",
       "4           0.555750            13  "
      ]
     },
     "execution_count": 12,
     "metadata": {},
     "output_type": "execute_result"
    }
   ],
   "source": [
    "result.head()"
   ]
  },
  {
   "cell_type": "code",
   "execution_count": 13,
   "metadata": {},
   "outputs": [],
   "source": [
    "import pandas as pd\n",
    "from sklearn.model_selection import train_test_split\n",
    "from sklearn.ensemble import RandomForestClassifier\n",
    "from sklearn.metrics import accuracy_score\n",
    "from sklearn.metrics import confusion_matrix"
   ]
  },
  {
   "cell_type": "code",
   "execution_count": 14,
   "metadata": {},
   "outputs": [],
   "source": [
    "feature_headers = ['cosine_similarity', 'common_words']\n",
    "target_header = ['label']"
   ]
  },
  {
   "cell_type": "code",
   "execution_count": 15,
   "metadata": {},
   "outputs": [
    {
     "name": "stderr",
     "output_type": "stream",
     "text": [
      "C:\\Users\\skamuf\\AppData\\Local\\Continuum\\anaconda3\\lib\\site-packages\\sklearn\\model_selection\\_split.py:2026: FutureWarning: From version 0.21, test_size will always complement train_size unless both are specified.\n",
      "  FutureWarning)\n"
     ]
    }
   ],
   "source": [
    "train_x, test_x, train_y, test_y = train_test_split(result[feature_headers], result[target_header],\n",
    "                                                        train_size=0.8)"
   ]
  },
  {
   "cell_type": "code",
   "execution_count": 16,
   "metadata": {},
   "outputs": [
    {
     "name": "stderr",
     "output_type": "stream",
     "text": [
      "C:\\Users\\skamuf\\AppData\\Local\\Continuum\\anaconda3\\lib\\site-packages\\sklearn\\utils\\validation.py:578: DataConversionWarning: A column-vector y was passed when a 1d array was expected. Please change the shape of y to (n_samples, ), for example using ravel().\n",
      "  y = column_or_1d(y, warn=True)\n"
     ]
    }
   ],
   "source": [
    "from sklearn.linear_model import LogisticRegression\n",
    "from sklearn import metrics\n",
    "\n",
    "logistic_regression_model = LogisticRegression()\n",
    "trained_logistic_regression_model = logistic_regression_model.fit(train_x, train_y)"
   ]
  },
  {
   "cell_type": "code",
   "execution_count": 17,
   "metadata": {},
   "outputs": [],
   "source": [
    "def model_accuracy(trained_model, features, targets):\n",
    "    \"\"\"\n",
    "    Get the accuracy score of the model\n",
    "    :param trained_model:\n",
    "    :param features:\n",
    "    :param targets:\n",
    "    :return:\n",
    "    \"\"\"\n",
    "    accuracy_score = trained_model.score(features, targets)\n",
    "    return accuracy_score"
   ]
  },
  {
   "cell_type": "code",
   "execution_count": 18,
   "metadata": {},
   "outputs": [
    {
     "name": "stdout",
     "output_type": "stream",
     "text": [
      "0.995681441164777\n"
     ]
    }
   ],
   "source": [
    "train_accuracy = model_accuracy(trained_logistic_regression_model, train_x, train_y)\n",
    "print(train_accuracy)"
   ]
  },
  {
   "cell_type": "code",
   "execution_count": 19,
   "metadata": {},
   "outputs": [],
   "source": [
    "weighted_prediction = trained_logistic_regression_model.predict(test_x)"
   ]
  },
  {
   "cell_type": "code",
   "execution_count": 20,
   "metadata": {},
   "outputs": [
    {
     "data": {
      "text/plain": [
       "array([0, 0, 0, ..., 0, 0, 0], dtype=int64)"
      ]
     },
     "execution_count": 20,
     "metadata": {},
     "output_type": "execute_result"
    }
   ],
   "source": [
    "weighted_prediction"
   ]
  },
  {
   "cell_type": "code",
   "execution_count": 21,
   "metadata": {},
   "outputs": [],
   "source": [
    "from sklearn.metrics import accuracy_score\n",
    "from sklearn.metrics import f1_score\n",
    "from sklearn.metrics import recall_score\n",
    "from sklearn.metrics import precision_score"
   ]
  },
  {
   "cell_type": "code",
   "execution_count": 22,
   "metadata": {
    "scrolled": true
   },
   "outputs": [
    {
     "name": "stdout",
     "output_type": "stream",
     "text": [
      "Accuracy: 0.9952656015793514\n",
      "F1 score: 0.0\n",
      "Recall: 0.0\n",
      "Precision: 0.0\n"
     ]
    }
   ],
   "source": [
    "print('Accuracy:', accuracy_score(test_y, weighted_prediction))\n",
    "print('F1 score:', f1_score(test_y, weighted_prediction))\n",
    "print('Recall:', recall_score(test_y, weighted_prediction))\n",
    "print('Precision:', precision_score(test_y, weighted_prediction))"
   ]
  },
  {
   "cell_type": "code",
   "execution_count": null,
   "metadata": {},
   "outputs": [],
   "source": []
  }
 ],
 "metadata": {
  "kernelspec": {
   "display_name": "Python 3",
   "language": "python",
   "name": "python3"
  },
  "language_info": {
   "codemirror_mode": {
    "name": "ipython",
    "version": 3
   },
   "file_extension": ".py",
   "mimetype": "text/x-python",
   "name": "python",
   "nbconvert_exporter": "python",
   "pygments_lexer": "ipython3",
   "version": "3.6.4"
  }
 },
 "nbformat": 4,
 "nbformat_minor": 2
}
