{
 "cells": [
  {
   "cell_type": "code",
   "execution_count": 1,
   "metadata": {},
   "outputs": [],
   "source": [
    "from sklearn.linear_model import LogisticRegression\n",
    "from sklearn.naive_bayes import GaussianNB \n",
    "from sklearn.ensemble import RandomForestClassifier\n",
    "from sklearn.svm import SVC\n",
    "from sklearn import datasets\n",
    "import numpy as np\n",
    "import pandas as pd\n",
    "\n",
    "train_set8 = pd.read_pickle(\"df_upsampled_train_features_8.pkl\")\n",
    "\n",
    "# Initializing Classifiers\n",
    "clf1 = LogisticRegression(random_state=1)\n",
    "clf2 = RandomForestClassifier(random_state=1)\n",
    "clf3 = GaussianNB()\n",
    "clf4 = SVC()\n",
    "\n",
    "# Loading some example data\n",
    "train_x_set8 = train_set8.loc[:, ['tfidf_cosine', 'tfidf_bigram_cosine', 'tfidf_trigram_cosine', 'count_vec_cosine', 'lda_50topics_cosine', 'lda_100topics_cosine', 'lda_200topics_cosine']].values\n",
    "train_y_set8 = train_set8['label'].values"
   ]
  },
  {
   "cell_type": "code",
   "execution_count": 2,
   "metadata": {},
   "outputs": [],
   "source": [
    "test_x_set8 = pd.read_pickle(\"test_x_features8.pkl\")\n",
    "test_y_set8 = pd.read_pickle(\"test_y_features8.pkl\")\n",
    "test_x_set8_xgboost = test_x_set8.loc[:, ['tfidf_cosine', 'tfidf_bigram_cosine', 'tfidf_trigram_cosine', 'count_vec_cosine', 'lda_50topics_cosine', 'lda_100topics_cosine', 'lda_200topics_cosine']].values\n",
    "test_y_set8_xgboost = test_y_set8['label'].values"
   ]
  },
  {
   "cell_type": "code",
   "execution_count": 3,
   "metadata": {},
   "outputs": [],
   "source": [
    "from sklearn.metrics import f1_score\n",
    "from sklearn.metrics import recall_score\n",
    "from sklearn.metrics import precision_score\n",
    "from sklearn.metrics import accuracy_score\n",
    "from sklearn.metrics import confusion_matrix"
   ]
  },
  {
   "cell_type": "code",
   "execution_count": 4,
   "metadata": {},
   "outputs": [
    {
     "data": {
      "text/plain": [
       "LogisticRegression(C=1.0, class_weight=None, dual=False, fit_intercept=True,\n",
       "          intercept_scaling=1, max_iter=100, multi_class='ovr', n_jobs=1,\n",
       "          penalty='l2', random_state=1, solver='liblinear', tol=0.0001,\n",
       "          verbose=0, warm_start=False)"
      ]
     },
     "execution_count": 4,
     "metadata": {},
     "output_type": "execute_result"
    }
   ],
   "source": [
    "clf1.fit(train_x_set8, train_y_set8)"
   ]
  },
  {
   "cell_type": "code",
   "execution_count": 5,
   "metadata": {},
   "outputs": [],
   "source": [
    "predictions1 = clf1.predict(test_x_set8)"
   ]
  },
  {
   "cell_type": "code",
   "execution_count": 6,
   "metadata": {},
   "outputs": [
    {
     "name": "stdout",
     "output_type": "stream",
     "text": [
      "Logistic Regression:\n",
      "Accuracy: 0.8151208276971448\n",
      "F1 score: 0.03042116699686841\n",
      "Recall: 0.7168674698795181\n",
      "Precision: 0.01554031994776363\n"
     ]
    }
   ],
   "source": [
    "print('Logistic Regression:')\n",
    "print('Accuracy:', accuracy_score(test_y_set8, predictions1))\n",
    "print('F1 score:', f1_score(test_y_set8, predictions1))\n",
    "print('Recall:', recall_score(test_y_set8, predictions1))\n",
    "print('Precision:', precision_score(test_y_set8, predictions1))"
   ]
  },
  {
   "cell_type": "code",
   "execution_count": 7,
   "metadata": {},
   "outputs": [],
   "source": [
    "log_acc = accuracy_score(test_y_set8, predictions1)\n",
    "log_f1 = f1_score(test_y_set8, predictions1)\n",
    "log_recall = recall_score(test_y_set8, predictions1)\n",
    "log_precision = precision_score(test_y_set8, predictions1)"
   ]
  },
  {
   "cell_type": "code",
   "execution_count": 8,
   "metadata": {
    "scrolled": true
   },
   "outputs": [
    {
     "data": {
      "text/plain": [
       "RandomForestClassifier(bootstrap=True, class_weight=None, criterion='gini',\n",
       "            max_depth=None, max_features='auto', max_leaf_nodes=None,\n",
       "            min_impurity_decrease=0.0, min_impurity_split=None,\n",
       "            min_samples_leaf=1, min_samples_split=2,\n",
       "            min_weight_fraction_leaf=0.0, n_estimators=10, n_jobs=1,\n",
       "            oob_score=False, random_state=1, verbose=0, warm_start=False)"
      ]
     },
     "execution_count": 8,
     "metadata": {},
     "output_type": "execute_result"
    }
   ],
   "source": [
    "clf2.fit(train_x_set8, train_y_set8)"
   ]
  },
  {
   "cell_type": "code",
   "execution_count": 9,
   "metadata": {},
   "outputs": [],
   "source": [
    "predictions2 = clf2.predict(test_x_set8)"
   ]
  },
  {
   "cell_type": "code",
   "execution_count": 10,
   "metadata": {},
   "outputs": [
    {
     "name": "stdout",
     "output_type": "stream",
     "text": [
      "Random Forest:\n",
      "Accuracy: 0.9929441011954813\n",
      "F1 score: 0.11059907834101383\n",
      "Recall: 0.10843373493975904\n",
      "Precision: 0.11285266457680251\n"
     ]
    }
   ],
   "source": [
    "print('Random Forest:')\n",
    "print('Accuracy:', accuracy_score(test_y_set8, predictions2))\n",
    "print('F1 score:', f1_score(test_y_set8, predictions2))\n",
    "print('Recall:', recall_score(test_y_set8, predictions2))\n",
    "print('Precision:', precision_score(test_y_set8, predictions2))"
   ]
  },
  {
   "cell_type": "code",
   "execution_count": 11,
   "metadata": {},
   "outputs": [],
   "source": [
    "rf_acc = accuracy_score(test_y_set8, predictions2)\n",
    "rf_f1 = f1_score(test_y_set8, predictions2)\n",
    "rf_recall = recall_score(test_y_set8, predictions2)\n",
    "rf_precision = precision_score(test_y_set8, predictions2)"
   ]
  },
  {
   "cell_type": "code",
   "execution_count": 12,
   "metadata": {},
   "outputs": [
    {
     "data": {
      "text/plain": [
       "GaussianNB(priors=None)"
      ]
     },
     "execution_count": 12,
     "metadata": {},
     "output_type": "execute_result"
    }
   ],
   "source": [
    "clf3.fit(train_x_set8, train_y_set8) "
   ]
  },
  {
   "cell_type": "code",
   "execution_count": 13,
   "metadata": {},
   "outputs": [],
   "source": [
    "predictions3 = clf3.predict(test_x_set8)"
   ]
  },
  {
   "cell_type": "code",
   "execution_count": 14,
   "metadata": {},
   "outputs": [
    {
     "name": "stdout",
     "output_type": "stream",
     "text": [
      "GaussianNB:\n",
      "Accuracy: 0.8668153401820641\n",
      "F1 score: 0.037346956751519424\n",
      "Recall: 0.6385542168674698\n",
      "Precision: 0.019236003992378188\n"
     ]
    }
   ],
   "source": [
    "print('GaussianNB:')\n",
    "print('Accuracy:', accuracy_score(test_y_set8, predictions3))\n",
    "print('F1 score:', f1_score(test_y_set8, predictions3))\n",
    "print('Recall:', recall_score(test_y_set8, predictions3))\n",
    "print('Precision:', precision_score(test_y_set8, predictions3))"
   ]
  },
  {
   "cell_type": "code",
   "execution_count": 15,
   "metadata": {},
   "outputs": [],
   "source": [
    "nb_acc = accuracy_score(test_y_set8, predictions3)\n",
    "nb_f1 = f1_score(test_y_set8, predictions3)\n",
    "nb_recall = recall_score(test_y_set8, predictions3)\n",
    "nb_precision = precision_score(test_y_set8, predictions3)"
   ]
  },
  {
   "cell_type": "code",
   "execution_count": 16,
   "metadata": {},
   "outputs": [
    {
     "data": {
      "text/plain": [
       "SVC(C=1.0, cache_size=200, class_weight=None, coef0=0.0,\n",
       "  decision_function_shape='ovr', degree=3, gamma='auto', kernel='rbf',\n",
       "  max_iter=-1, probability=False, random_state=None, shrinking=True,\n",
       "  tol=0.001, verbose=False)"
      ]
     },
     "execution_count": 16,
     "metadata": {},
     "output_type": "execute_result"
    }
   ],
   "source": [
    "clf4.fit(train_x_set8, train_y_set8) "
   ]
  },
  {
   "cell_type": "code",
   "execution_count": 17,
   "metadata": {},
   "outputs": [],
   "source": [
    "predictions4 = clf4.predict(test_x_set8)"
   ]
  },
  {
   "cell_type": "code",
   "execution_count": 18,
   "metadata": {},
   "outputs": [
    {
     "name": "stdout",
     "output_type": "stream",
     "text": [
      "SVM:\n",
      "Accuracy: 0.827453417662901\n",
      "F1 score: 0.03265696522511444\n",
      "Recall: 0.7198795180722891\n",
      "Precision: 0.01670744494931842\n"
     ]
    }
   ],
   "source": [
    "print('SVM:')\n",
    "print('Accuracy:', accuracy_score(test_y_set8, predictions4))\n",
    "print('F1 score:', f1_score(test_y_set8, predictions4))\n",
    "print('Recall:', recall_score(test_y_set8, predictions4))\n",
    "print('Precision:', precision_score(test_y_set8, predictions4))"
   ]
  },
  {
   "cell_type": "code",
   "execution_count": 19,
   "metadata": {},
   "outputs": [],
   "source": [
    "svm_acc = accuracy_score(test_y_set8, predictions4)\n",
    "svm_f1 = f1_score(test_y_set8, predictions4)\n",
    "svm_recall = recall_score(test_y_set8, predictions4)\n",
    "svm_precision = precision_score(test_y_set8, predictions4)"
   ]
  },
  {
   "cell_type": "code",
   "execution_count": 20,
   "metadata": {},
   "outputs": [],
   "source": [
    "from xgboost import XGBClassifier"
   ]
  },
  {
   "cell_type": "code",
   "execution_count": 21,
   "metadata": {},
   "outputs": [
    {
     "data": {
      "text/plain": [
       "XGBClassifier(base_score=0.5, booster='gbtree', colsample_bylevel=1,\n",
       "       colsample_bytree=1, gamma=0, learning_rate=0.1, max_delta_step=0,\n",
       "       max_depth=3, min_child_weight=1, missing=None, n_estimators=100,\n",
       "       n_jobs=1, nthread=None, objective='binary:logistic', random_state=0,\n",
       "       reg_alpha=0, reg_lambda=1, scale_pos_weight=1, seed=None,\n",
       "       silent=True, subsample=1)"
      ]
     },
     "execution_count": 21,
     "metadata": {},
     "output_type": "execute_result"
    }
   ],
   "source": [
    "# fit xgboost model no training data\n",
    "model = XGBClassifier()\n",
    "model.fit(train_x_set8, train_y_set8)"
   ]
  },
  {
   "cell_type": "code",
   "execution_count": 22,
   "metadata": {},
   "outputs": [
    {
     "name": "stderr",
     "output_type": "stream",
     "text": [
      "C:\\Users\\skamuf\\AppData\\Local\\Continuum\\anaconda3\\lib\\site-packages\\sklearn\\preprocessing\\label.py:151: DeprecationWarning: The truth value of an empty array is ambiguous. Returning False, but in future this will result in an error. Use `array.size > 0` to check that an array is not empty.\n",
      "  if diff:\n"
     ]
    }
   ],
   "source": [
    "predictions5 = model.predict(test_x_set8_xgboost)"
   ]
  },
  {
   "cell_type": "code",
   "execution_count": 23,
   "metadata": {},
   "outputs": [
    {
     "name": "stdout",
     "output_type": "stream",
     "text": [
      "XGBoost:\n",
      "Accuracy: 0.8137193970192179\n",
      "F1 score: 0.03044526195610808\n",
      "Recall: 0.7228915662650602\n",
      "Precision: 0.01555008422962291\n"
     ]
    }
   ],
   "source": [
    "print('XGBoost:')\n",
    "print('Accuracy:', accuracy_score(test_y_set8_xgboost, predictions5))\n",
    "print('F1 score:', f1_score(test_y_set8_xgboost, predictions5))\n",
    "print('Recall:', recall_score(test_y_set8_xgboost, predictions5))\n",
    "print('Precision:', precision_score(test_y_set8_xgboost, predictions5))"
   ]
  },
  {
   "cell_type": "code",
   "execution_count": 24,
   "metadata": {},
   "outputs": [],
   "source": [
    "xgboost_acc = accuracy_score(test_y_set8, predictions5)\n",
    "xgboost_f1 = f1_score(test_y_set8, predictions5)\n",
    "xgboost_recall = recall_score(test_y_set8, predictions5)\n",
    "xgboost_precision = precision_score(test_y_set8, predictions5)"
   ]
  },
  {
   "cell_type": "code",
   "execution_count": 25,
   "metadata": {},
   "outputs": [],
   "source": [
    "from sklearn.neural_network import MLPClassifier"
   ]
  },
  {
   "cell_type": "code",
   "execution_count": 26,
   "metadata": {},
   "outputs": [],
   "source": [
    "mlp = MLPClassifier(solver='lbfgs', alpha=1e-5,\n",
    "                    hidden_layer_sizes=(5, 2), random_state=1)"
   ]
  },
  {
   "cell_type": "code",
   "execution_count": 27,
   "metadata": {},
   "outputs": [
    {
     "data": {
      "text/plain": [
       "MLPClassifier(activation='relu', alpha=1e-05, batch_size='auto', beta_1=0.9,\n",
       "       beta_2=0.999, early_stopping=False, epsilon=1e-08,\n",
       "       hidden_layer_sizes=(5, 2), learning_rate='constant',\n",
       "       learning_rate_init=0.001, max_iter=200, momentum=0.9,\n",
       "       nesterovs_momentum=True, power_t=0.5, random_state=1, shuffle=True,\n",
       "       solver='lbfgs', tol=0.0001, validation_fraction=0.1, verbose=False,\n",
       "       warm_start=False)"
      ]
     },
     "execution_count": 27,
     "metadata": {},
     "output_type": "execute_result"
    }
   ],
   "source": [
    "mlp.fit(train_x_set8, train_y_set8)"
   ]
  },
  {
   "cell_type": "code",
   "execution_count": 28,
   "metadata": {},
   "outputs": [],
   "source": [
    "predictions6 = mlp.predict(test_x_set8_xgboost)"
   ]
  },
  {
   "cell_type": "code",
   "execution_count": 29,
   "metadata": {},
   "outputs": [
    {
     "name": "stdout",
     "output_type": "stream",
     "text": [
      "MLP - multi-layer perceptron:\n",
      "Accuracy: 0.7943796536638272\n",
      "F1 score: 0.028780291256547515\n",
      "Recall: 0.7530120481927711\n",
      "Precision: 0.01467050055747902\n"
     ]
    }
   ],
   "source": [
    "print('MLP - multi-layer perceptron:')\n",
    "print('Accuracy:', accuracy_score(test_y_set8_xgboost, predictions6))\n",
    "print('F1 score:', f1_score(test_y_set8_xgboost, predictions6))\n",
    "print('Recall:', recall_score(test_y_set8_xgboost, predictions6))\n",
    "print('Precision:', precision_score(test_y_set8_xgboost, predictions6))"
   ]
  },
  {
   "cell_type": "code",
   "execution_count": 30,
   "metadata": {},
   "outputs": [],
   "source": [
    "mlp_acc = accuracy_score(test_y_set8, predictions6)\n",
    "mlp_f1 = f1_score(test_y_set8, predictions6)\n",
    "mlp_recall = recall_score(test_y_set8, predictions6)\n",
    "mlp_precision = precision_score(test_y_set8, predictions6)"
   ]
  },
  {
   "cell_type": "code",
   "execution_count": 31,
   "metadata": {},
   "outputs": [],
   "source": [
    "import matplotlib.pyplot as plt"
   ]
  },
  {
   "cell_type": "code",
   "execution_count": 32,
   "metadata": {},
   "outputs": [
    {
     "data": {
      "image/png": "[encoded data removed]",
      "text/plain": [
       "<matplotlib.figure.Figure at 0x2b657c84dd8>"
      ]
     },
     "metadata": {},
     "output_type": "display_data"
    }
   ],
   "source": [
    "import matplotlib.pyplot as plt; plt.rcdefaults()\n",
    "import numpy as np\n",
    "import matplotlib.pyplot as plt\n",
    " \n",
    "objects = ('Log Regression', 'MLP', 'Random Forest', 'SVM', 'Naive Bayes', 'XGBoost')\n",
    "y_pos = np.arange(len(objects))\n",
    "performance = [log_acc, mlp_acc, rf_acc,svm_acc, nb_acc, xgboost_acc]\n",
    " \n",
    "plt.bar(y_pos, performance, align='center', alpha=0.5)\n",
    "plt.xticks(y_pos, objects)\n",
    "plt.ylabel('Percentage')\n",
    "plt.title('Accuracy')\n",
    " \n",
    "plt.show()"
   ]
  },
  {
   "cell_type": "code",
   "execution_count": 33,
   "metadata": {},
   "outputs": [
    {
     "data": {
      "image/png": "[encoded data removed]",
      "text/plain": [
       "<matplotlib.figure.Figure at 0x2b657c84eb8>"
      ]
     },
     "metadata": {},
     "output_type": "display_data"
    }
   ],
   "source": [
    "import matplotlib.pyplot as plt; plt.rcdefaults()\n",
    "import numpy as np\n",
    "import matplotlib.pyplot as plt\n",
    " \n",
    "objects = ('Log Regression', 'MLP', 'Random Forest', 'SVM', 'Naive Bayes', 'XGBoost')\n",
    "y_pos = np.arange(len(objects))\n",
    "performance = [log_f1, mlp_f1, rf_f1, svm_f1, nb_f1, xgboost_f1]\n",
    " \n",
    "plt.bar(y_pos, performance, align='center', alpha=0.5)\n",
    "plt.xticks(y_pos, objects)\n",
    "plt.ylabel('Percentage')\n",
    "plt.title('F1 Score')\n",
    " \n",
    "plt.show()"
   ]
  },
  {
   "cell_type": "code",
   "execution_count": 34,
   "metadata": {},
   "outputs": [
    {
     "data": {
      "image/png": "[encoded data removed]",
      "text/plain": [
       "<matplotlib.figure.Figure at 0x2b657ee2630>"
      ]
     },
     "metadata": {},
     "output_type": "display_data"
    }
   ],
   "source": [
    "import matplotlib.pyplot as plt; plt.rcdefaults()\n",
    "import numpy as np\n",
    "import matplotlib.pyplot as plt\n",
    " \n",
    "objects = ('Log Regression', 'MLP', 'Random Forest', 'SVM', 'Naive Bayes', 'XGBoost')\n",
    "y_pos = np.arange(len(objects))\n",
    "performance = [log_recall, mlp_recall, rf_recall, svm_recall, nb_recall, xgboost_recall]\n",
    " \n",
    "plt.bar(y_pos, performance, align='center', alpha=0.5)\n",
    "plt.xticks(y_pos, objects)\n",
    "plt.ylabel('Percentage')\n",
    "plt.title('Recall')\n",
    " \n",
    "plt.show()"
   ]
  },
  {
   "cell_type": "code",
   "execution_count": 35,
   "metadata": {},
   "outputs": [
    {
     "data": {
      "image/png": "[encoded data removed]",
      "text/plain": [
       "<matplotlib.figure.Figure at 0x2b657dbab70>"
      ]
     },
     "metadata": {},
     "output_type": "display_data"
    }
   ],
   "source": [
    "import matplotlib.pyplot as plt; plt.rcdefaults()\n",
    "import numpy as np\n",
    "import matplotlib.pyplot as plt\n",
    " \n",
    "objects = ('Log Regression', 'MLP', 'Random Forest', 'SVM', 'Naive Bayes', 'XGBoost')\n",
    "y_pos = np.arange(len(objects))\n",
    "performance = [log_precision, mlp_precision, rf_precision, svm_precision, nb_precision, xgboost_precision]\n",
    " \n",
    "plt.bar(y_pos, performance, align='center', alpha=0.5)\n",
    "plt.xticks(y_pos, objects)\n",
    "plt.ylabel('Percentage')\n",
    "plt.title('Precision')\n",
    " \n",
    "plt.show()"
   ]
  },
  {
   "cell_type": "code",
   "execution_count": null,
   "metadata": {},
   "outputs": [],
   "source": []
  }
 ],
 "metadata": {
  "kernelspec": {
   "display_name": "Python 3",
   "language": "python",
   "name": "python3"
  },
  "language_info": {
   "codemirror_mode": {
    "name": "ipython",
    "version": 3
   },
   "file_extension": ".py",
   "mimetype": "text/x-python",
   "name": "python",
   "nbconvert_exporter": "python",
   "pygments_lexer": "ipython3",
   "version": "3.6.4"
  }
 },
 "nbformat": 4,
 "nbformat_minor": 2
}
