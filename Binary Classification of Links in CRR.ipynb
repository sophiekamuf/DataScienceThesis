{
 "cells": [
  {
   "cell_type": "code",
   "execution_count": 1,
   "metadata": {
    "collapsed": true
   },
   "outputs": [],
   "source": [
    "import pandas as pd"
   ]
  },
  {
   "cell_type": "code",
   "execution_count": 2,
   "metadata": {
    "collapsed": true
   },
   "outputs": [],
   "source": [
    "df = pd.read_pickle(\"df_cleaned.pkl\")"
   ]
  },
  {
   "cell_type": "code",
   "execution_count": 3,
   "metadata": {},
   "outputs": [
    {
     "data": {
      "text/html": [
       "<div>\n",
       "<style scoped>\n",
       "    .dataframe tbody tr th:only-of-type {\n",
       "        vertical-align: middle;\n",
       "    }\n",
       "\n",
       "    .dataframe tbody tr th {\n",
       "        vertical-align: top;\n",
       "    }\n",
       "\n",
       "    .dataframe thead th {\n",
       "        text-align: right;\n",
       "    }\n",
       "</style>\n",
       "<table border=\"1\" class=\"dataframe\">\n",
       "  <thead>\n",
       "    <tr style=\"text-align: right;\">\n",
       "      <th></th>\n",
       "      <th>Article</th>\n",
       "      <th>Title</th>\n",
       "      <th>Paragraphs</th>\n",
       "      <th>References_internal_clean</th>\n",
       "      <th>Paragraphs_cleaned</th>\n",
       "    </tr>\n",
       "  </thead>\n",
       "  <tbody>\n",
       "    <tr>\n",
       "      <th>1</th>\n",
       "      <td>Article 1</td>\n",
       "      <td>Scope</td>\n",
       "      <td>This Regulation lays down uniform rules concer...</td>\n",
       "      <td>[460]</td>\n",
       "      <td>This Regulation lays down uniform rules concer...</td>\n",
       "    </tr>\n",
       "    <tr>\n",
       "      <th>2</th>\n",
       "      <td>Article 2</td>\n",
       "      <td>Supervisory powers</td>\n",
       "      <td>For the purposes of ensuring compliance with t...</td>\n",
       "      <td>[]</td>\n",
       "      <td>For the purposes of ensuring compliance with t...</td>\n",
       "    </tr>\n",
       "    <tr>\n",
       "      <th>3</th>\n",
       "      <td>Article 3</td>\n",
       "      <td>Application of stricter requirements by instit...</td>\n",
       "      <td>This Regulation shall not prevent institutions...</td>\n",
       "      <td>[]</td>\n",
       "      <td>This Regulation shall not prevent institutions...</td>\n",
       "    </tr>\n",
       "    <tr>\n",
       "      <th>4</th>\n",
       "      <td>Article 4</td>\n",
       "      <td>Definitions</td>\n",
       "      <td>1.   For the purposes of this Regulation, the ...</td>\n",
       "      <td>[4, 2, 115, 25, 71, 301, 113, 1]</td>\n",
       "      <td>1.   For the purposes of this Regulation, the ...</td>\n",
       "    </tr>\n",
       "    <tr>\n",
       "      <th>5</th>\n",
       "      <td>Article 5</td>\n",
       "      <td>Definitions specific to capital requirements f...</td>\n",
       "      <td>For the purposes of Part Three, Title II, the ...</td>\n",
       "      <td>[]</td>\n",
       "      <td>For the purposes of Part Three, Title II, the ...</td>\n",
       "    </tr>\n",
       "  </tbody>\n",
       "</table>\n",
       "</div>"
      ],
      "text/plain": [
       "     Article                                              Title  \\\n",
       "1  Article 1                                              Scope   \n",
       "2  Article 2                                 Supervisory powers   \n",
       "3  Article 3  Application of stricter requirements by instit...   \n",
       "4  Article 4                                        Definitions   \n",
       "5  Article 5  Definitions specific to capital requirements f...   \n",
       "\n",
       "                                          Paragraphs  \\\n",
       "1  This Regulation lays down uniform rules concer...   \n",
       "2  For the purposes of ensuring compliance with t...   \n",
       "3  This Regulation shall not prevent institutions...   \n",
       "4  1.   For the purposes of this Regulation, the ...   \n",
       "5  For the purposes of Part Three, Title II, the ...   \n",
       "\n",
       "          References_internal_clean  \\\n",
       "1                             [460]   \n",
       "2                                []   \n",
       "3                                []   \n",
       "4  [4, 2, 115, 25, 71, 301, 113, 1]   \n",
       "5                                []   \n",
       "\n",
       "                                  Paragraphs_cleaned  \n",
       "1  This Regulation lays down uniform rules concer...  \n",
       "2  For the purposes of ensuring compliance with t...  \n",
       "3  This Regulation shall not prevent institutions...  \n",
       "4  1.   For the purposes of this Regulation, the ...  \n",
       "5  For the purposes of Part Three, Title II, the ...  "
      ]
     },
     "execution_count": 3,
     "metadata": {},
     "output_type": "execute_result"
    }
   ],
   "source": [
    "df.head()"
   ]
  },
  {
   "cell_type": "code",
   "execution_count": 4,
   "metadata": {
    "collapsed": true
   },
   "outputs": [],
   "source": [
    "del df['Paragraphs']"
   ]
  },
  {
   "cell_type": "code",
   "execution_count": 5,
   "metadata": {},
   "outputs": [
    {
     "data": {
      "text/html": [
       "<div>\n",
       "<style scoped>\n",
       "    .dataframe tbody tr th:only-of-type {\n",
       "        vertical-align: middle;\n",
       "    }\n",
       "\n",
       "    .dataframe tbody tr th {\n",
       "        vertical-align: top;\n",
       "    }\n",
       "\n",
       "    .dataframe thead th {\n",
       "        text-align: right;\n",
       "    }\n",
       "</style>\n",
       "<table border=\"1\" class=\"dataframe\">\n",
       "  <thead>\n",
       "    <tr style=\"text-align: right;\">\n",
       "      <th></th>\n",
       "      <th>Article</th>\n",
       "      <th>Title</th>\n",
       "      <th>References_internal_clean</th>\n",
       "      <th>Paragraphs_cleaned</th>\n",
       "    </tr>\n",
       "  </thead>\n",
       "  <tbody>\n",
       "    <tr>\n",
       "      <th>1</th>\n",
       "      <td>Article 1</td>\n",
       "      <td>Scope</td>\n",
       "      <td>[460]</td>\n",
       "      <td>This Regulation lays down uniform rules concer...</td>\n",
       "    </tr>\n",
       "    <tr>\n",
       "      <th>2</th>\n",
       "      <td>Article 2</td>\n",
       "      <td>Supervisory powers</td>\n",
       "      <td>[]</td>\n",
       "      <td>For the purposes of ensuring compliance with t...</td>\n",
       "    </tr>\n",
       "    <tr>\n",
       "      <th>3</th>\n",
       "      <td>Article 3</td>\n",
       "      <td>Application of stricter requirements by instit...</td>\n",
       "      <td>[]</td>\n",
       "      <td>This Regulation shall not prevent institutions...</td>\n",
       "    </tr>\n",
       "    <tr>\n",
       "      <th>4</th>\n",
       "      <td>Article 4</td>\n",
       "      <td>Definitions</td>\n",
       "      <td>[4, 2, 115, 25, 71, 301, 113, 1]</td>\n",
       "      <td>1.   For the purposes of this Regulation, the ...</td>\n",
       "    </tr>\n",
       "    <tr>\n",
       "      <th>5</th>\n",
       "      <td>Article 5</td>\n",
       "      <td>Definitions specific to capital requirements f...</td>\n",
       "      <td>[]</td>\n",
       "      <td>For the purposes of Part Three, Title II, the ...</td>\n",
       "    </tr>\n",
       "  </tbody>\n",
       "</table>\n",
       "</div>"
      ],
      "text/plain": [
       "     Article                                              Title  \\\n",
       "1  Article 1                                              Scope   \n",
       "2  Article 2                                 Supervisory powers   \n",
       "3  Article 3  Application of stricter requirements by instit...   \n",
       "4  Article 4                                        Definitions   \n",
       "5  Article 5  Definitions specific to capital requirements f...   \n",
       "\n",
       "          References_internal_clean  \\\n",
       "1                             [460]   \n",
       "2                                []   \n",
       "3                                []   \n",
       "4  [4, 2, 115, 25, 71, 301, 113, 1]   \n",
       "5                                []   \n",
       "\n",
       "                                  Paragraphs_cleaned  \n",
       "1  This Regulation lays down uniform rules concer...  \n",
       "2  For the purposes of ensuring compliance with t...  \n",
       "3  This Regulation shall not prevent institutions...  \n",
       "4  1.   For the purposes of this Regulation, the ...  \n",
       "5  For the purposes of Part Three, Title II, the ...  "
      ]
     },
     "execution_count": 5,
     "metadata": {},
     "output_type": "execute_result"
    }
   ],
   "source": [
    "df.head()"
   ]
  },
  {
   "cell_type": "code",
   "execution_count": 41,
   "metadata": {},
   "outputs": [],
   "source": [
    "frame = pd.DataFrame(columns = ['Article1', 'Article1_Paragraphs', 'Article2', 'Article2_Paragraphs'])\n",
    "frame.index = frame.index + 1"
   ]
  },
  {
   "cell_type": "code",
   "execution_count": 42,
   "metadata": {},
   "outputs": [],
   "source": [
    "for x in range (1, len(df)):\n",
    "    numbers = df['References_internal_clean'][x]\n",
    "    numbers = list(map(int, numbers))\n",
    "    for y in range (1, len(df)):\n",
    "        if y in numbers:\n",
    "            frame['Article1']= df['Article'][x]\n",
    "            frame['Article1_Paragraphs'] = df['Paragraphs_cleaned'][x]\n",
    "            frame['Article2'] = df['Article'][y]\n",
    "            frame['Article2_Paragraphs'] = df['Paragraphs_cleaned'][y]"
   ]
  },
  {
   "cell_type": "code",
   "execution_count": 40,
   "metadata": {},
   "outputs": [
    {
     "data": {
      "text/html": [
       "<div>\n",
       "<style scoped>\n",
       "    .dataframe tbody tr th:only-of-type {\n",
       "        vertical-align: middle;\n",
       "    }\n",
       "\n",
       "    .dataframe tbody tr th {\n",
       "        vertical-align: top;\n",
       "    }\n",
       "\n",
       "    .dataframe thead th {\n",
       "        text-align: right;\n",
       "    }\n",
       "</style>\n",
       "<table border=\"1\" class=\"dataframe\">\n",
       "  <thead>\n",
       "    <tr style=\"text-align: right;\">\n",
       "      <th></th>\n",
       "      <th>Article1</th>\n",
       "      <th>Article2</th>\n",
       "      <th>Article1_Paragraphs</th>\n",
       "      <th>Article2_Paragraphs</th>\n",
       "    </tr>\n",
       "  </thead>\n",
       "  <tbody>\n",
       "  </tbody>\n",
       "</table>\n",
       "</div>"
      ],
      "text/plain": [
       "Empty DataFrame\n",
       "Columns: [Article1, Article2, Article1_Paragraphs, Article2_Paragraphs]\n",
       "Index: []"
      ]
     },
     "execution_count": 40,
     "metadata": {},
     "output_type": "execute_result"
    }
   ],
   "source": [
    "frame.head()"
   ]
  },
  {
   "cell_type": "code",
   "execution_count": 43,
   "metadata": {},
   "outputs": [
    {
     "ename": "IndentationError",
     "evalue": "unexpected indent (<ipython-input-43-817cc96b93b4>, line 2)",
     "output_type": "error",
     "traceback": [
      "\u001b[0;36m  File \u001b[0;32m\"<ipython-input-43-817cc96b93b4>\"\u001b[0;36m, line \u001b[0;32m2\u001b[0m\n\u001b[0;31m    Article Reference  Text\u001b[0m\n\u001b[0m    ^\u001b[0m\n\u001b[0;31mIndentationError\u001b[0m\u001b[0;31m:\u001b[0m unexpected indent\n"
     ]
    }
   ],
   "source": [
    "print (df)\n",
    "   Article Reference  Text\n",
    "1        1   3, 4, 5  xyz1\n",
    "2        2  5, 9, 10  xyz2\n",
    "3        3   1, 2, 3  xyz3\n",
    "\n",
    "from itertools import chain\n",
    "\n",
    "s = df['Reference'].str.split(',\\s+')\n",
    "lens = s.str.len()\n",
    "df1 = pd.DataFrame({\n",
    "    'Article2' : list(chain.from_iterable(s)), \n",
    "    'Article1' : df['Article'].values.repeat(lens),\n",
    "    'Text1' : df['Text'].values.repeat(lens),\n",
    "}, columns=['Article1','Text1','Article2'])\n",
    "\n",
    "df1['Text2'] = df1['Article2'].astype(int).map(df.set_index('Article')['Text'])\n",
    "print (df1)\n",
    "   Article1 Text1 Article2 Text2\n",
    "0         1  xyz1        3  xyz3\n",
    "1         1  xyz1        4   NaN\n",
    "2         1  xyz1        5   NaN\n",
    "3         2  xyz2        5   NaN\n",
    "4         2  xyz2        9   NaN\n",
    "5         2  xyz2       10   NaN\n",
    "6         3  xyz3        1  xyz1\n",
    "7         3  xyz3        2  xyz2\n",
    "8         3  xyz3        3  xyz3"
   ]
  },
  {
   "cell_type": "code",
   "execution_count": null,
   "metadata": {
    "collapsed": true
   },
   "outputs": [],
   "source": []
  }
 ],
 "metadata": {
  "kernelspec": {
   "display_name": "Python 3",
   "language": "python",
   "name": "python3"
  },
  "language_info": {
   "codemirror_mode": {
    "name": "ipython",
    "version": 3
   },
   "file_extension": ".py",
   "mimetype": "text/x-python",
   "name": "python",
   "nbconvert_exporter": "python",
   "pygments_lexer": "ipython3",
   "version": "3.6.3"
  }
 },
 "nbformat": 4,
 "nbformat_minor": 2
}
