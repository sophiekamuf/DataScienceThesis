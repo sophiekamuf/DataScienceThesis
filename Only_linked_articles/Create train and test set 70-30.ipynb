{
 "cells": [
  {
   "cell_type": "code",
   "execution_count": 1,
   "metadata": {
    "collapsed": true
   },
   "outputs": [],
   "source": [
    "import pandas as pd\n",
    "from sklearn.model_selection import train_test_split"
   ]
  },
  {
   "cell_type": "code",
   "execution_count": 2,
   "metadata": {
    "collapsed": true
   },
   "outputs": [],
   "source": [
    "result = pd.read_pickle(\"only_linked_articles.pkl\")"
   ]
  },
  {
   "cell_type": "code",
   "execution_count": 3,
   "metadata": {},
   "outputs": [
    {
     "data": {
      "text/html": [
       "<div>\n",
       "<style scoped>\n",
       "    .dataframe tbody tr th:only-of-type {\n",
       "        vertical-align: middle;\n",
       "    }\n",
       "\n",
       "    .dataframe tbody tr th {\n",
       "        vertical-align: top;\n",
       "    }\n",
       "\n",
       "    .dataframe thead th {\n",
       "        text-align: right;\n",
       "    }\n",
       "</style>\n",
       "<table border=\"1\" class=\"dataframe\">\n",
       "  <thead>\n",
       "    <tr style=\"text-align: right;\">\n",
       "      <th></th>\n",
       "      <th>articles1</th>\n",
       "      <th>paragraphs1</th>\n",
       "      <th>articles2</th>\n",
       "      <th>paragraphs2</th>\n",
       "      <th>label</th>\n",
       "      <th>tfidf_cosine</th>\n",
       "      <th>tfidf_bigram_cosine</th>\n",
       "      <th>tfidf_trigram_cosine</th>\n",
       "      <th>count_vec_cosine</th>\n",
       "      <th>lda_50topics_cosine</th>\n",
       "      <th>lda_100topics_cosine</th>\n",
       "      <th>lda_200topics_cosine</th>\n",
       "      <th>common_words</th>\n",
       "    </tr>\n",
       "  </thead>\n",
       "  <tbody>\n",
       "    <tr>\n",
       "      <th>1</th>\n",
       "      <td>Article 4</td>\n",
       "      <td>1.   For the purposes of this Regulation, the ...</td>\n",
       "      <td>Article 1</td>\n",
       "      <td>This Regulation lays down uniform rules concer...</td>\n",
       "      <td>1</td>\n",
       "      <td>0.312056</td>\n",
       "      <td>0.610236</td>\n",
       "      <td>0.000000</td>\n",
       "      <td>0.474995</td>\n",
       "      <td>0.000632</td>\n",
       "      <td>0.000212</td>\n",
       "      <td>0.000082</td>\n",
       "      <td>57</td>\n",
       "    </tr>\n",
       "    <tr>\n",
       "      <th>2</th>\n",
       "      <td>Article 4</td>\n",
       "      <td>1.   For the purposes of this Regulation, the ...</td>\n",
       "      <td>Article 2</td>\n",
       "      <td>For the purposes of ensuring compliance with t...</td>\n",
       "      <td>1</td>\n",
       "      <td>0.208647</td>\n",
       "      <td>0.610236</td>\n",
       "      <td>0.000000</td>\n",
       "      <td>0.490329</td>\n",
       "      <td>0.015272</td>\n",
       "      <td>0.024490</td>\n",
       "      <td>0.000804</td>\n",
       "      <td>17</td>\n",
       "    </tr>\n",
       "    <tr>\n",
       "      <th>3</th>\n",
       "      <td>Article 4</td>\n",
       "      <td>1.   For the purposes of this Regulation, the ...</td>\n",
       "      <td>Article 4</td>\n",
       "      <td>1.   For the purposes of this Regulation, the ...</td>\n",
       "      <td>1</td>\n",
       "      <td>1.000000</td>\n",
       "      <td>1.000000</td>\n",
       "      <td>1.000000</td>\n",
       "      <td>1.000000</td>\n",
       "      <td>1.000000</td>\n",
       "      <td>1.000000</td>\n",
       "      <td>1.000000</td>\n",
       "      <td>1423</td>\n",
       "    </tr>\n",
       "    <tr>\n",
       "      <th>4</th>\n",
       "      <td>Article 4</td>\n",
       "      <td>1.   For the purposes of this Regulation, the ...</td>\n",
       "      <td>Article 25</td>\n",
       "      <td>The Tier 1 capital of an institution consists ...</td>\n",
       "      <td>1</td>\n",
       "      <td>0.309379</td>\n",
       "      <td>0.000000</td>\n",
       "      <td>0.946203</td>\n",
       "      <td>0.644046</td>\n",
       "      <td>0.061864</td>\n",
       "      <td>0.062975</td>\n",
       "      <td>0.001543</td>\n",
       "      <td>13</td>\n",
       "    </tr>\n",
       "    <tr>\n",
       "      <th>5</th>\n",
       "      <td>Article 4</td>\n",
       "      <td>1.   For the purposes of this Regulation, the ...</td>\n",
       "      <td>Article 71</td>\n",
       "      <td>The Tier 2 capital of an institution shall con...</td>\n",
       "      <td>1</td>\n",
       "      <td>0.396526</td>\n",
       "      <td>0.000000</td>\n",
       "      <td>0.000000</td>\n",
       "      <td>0.734612</td>\n",
       "      <td>0.062299</td>\n",
       "      <td>0.134459</td>\n",
       "      <td>0.000650</td>\n",
       "      <td>14</td>\n",
       "    </tr>\n",
       "  </tbody>\n",
       "</table>\n",
       "</div>"
      ],
      "text/plain": [
       "   articles1                                        paragraphs1   articles2  \\\n",
       "1  Article 4  1.   For the purposes of this Regulation, the ...   Article 1   \n",
       "2  Article 4  1.   For the purposes of this Regulation, the ...   Article 2   \n",
       "3  Article 4  1.   For the purposes of this Regulation, the ...   Article 4   \n",
       "4  Article 4  1.   For the purposes of this Regulation, the ...  Article 25   \n",
       "5  Article 4  1.   For the purposes of this Regulation, the ...  Article 71   \n",
       "\n",
       "                                         paragraphs2  label  tfidf_cosine  \\\n",
       "1  This Regulation lays down uniform rules concer...      1      0.312056   \n",
       "2  For the purposes of ensuring compliance with t...      1      0.208647   \n",
       "3  1.   For the purposes of this Regulation, the ...      1      1.000000   \n",
       "4  The Tier 1 capital of an institution consists ...      1      0.309379   \n",
       "5  The Tier 2 capital of an institution shall con...      1      0.396526   \n",
       "\n",
       "   tfidf_bigram_cosine  tfidf_trigram_cosine  count_vec_cosine  \\\n",
       "1             0.610236              0.000000          0.474995   \n",
       "2             0.610236              0.000000          0.490329   \n",
       "3             1.000000              1.000000          1.000000   \n",
       "4             0.000000              0.946203          0.644046   \n",
       "5             0.000000              0.000000          0.734612   \n",
       "\n",
       "   lda_50topics_cosine  lda_100topics_cosine  lda_200topics_cosine  \\\n",
       "1             0.000632              0.000212              0.000082   \n",
       "2             0.015272              0.024490              0.000804   \n",
       "3             1.000000              1.000000              1.000000   \n",
       "4             0.061864              0.062975              0.001543   \n",
       "5             0.062299              0.134459              0.000650   \n",
       "\n",
       "   common_words  \n",
       "1            57  \n",
       "2            17  \n",
       "3          1423  \n",
       "4            13  \n",
       "5            14  "
      ]
     },
     "execution_count": 3,
     "metadata": {},
     "output_type": "execute_result"
    }
   ],
   "source": [
    "result.head()"
   ]
  },
  {
   "cell_type": "code",
   "execution_count": 4,
   "metadata": {
    "collapsed": true
   },
   "outputs": [],
   "source": [
    "feature_headers = ['tfidf_cosine', 'tfidf_bigram_cosine', 'tfidf_trigram_cosine', 'count_vec_cosine', 'lda_50topics_cosine', 'lda_100topics_cosine', 'lda_200topics_cosine']\n",
    "target_header = ['label']"
   ]
  },
  {
   "cell_type": "code",
   "execution_count": 5,
   "metadata": {},
   "outputs": [
    {
     "name": "stderr",
     "output_type": "stream",
     "text": [
      "/Users/sophiekamuf/anaconda3/lib/python3.6/site-packages/sklearn/model_selection/_split.py:2026: FutureWarning: From version 0.21, test_size will always complement train_size unless both are specified.\n",
      "  FutureWarning)\n"
     ]
    }
   ],
   "source": [
    "train_x, test_x, train_y, test_y = train_test_split(result[feature_headers], result[target_header],\n",
    "                                                        train_size=0.7)"
   ]
  },
  {
   "cell_type": "code",
   "execution_count": 6,
   "metadata": {},
   "outputs": [
    {
     "name": "stdout",
     "output_type": "stream",
     "text": [
      "   label\n",
      "0  61947\n",
      "1    343\n",
      "    label\n",
      "0  144495\n",
      "1     846\n"
     ]
    }
   ],
   "source": [
    "print(test_y.apply(pd.value_counts))\n",
    "#test_y.groupby('label').count()\n",
    "print(train_y.apply(pd.value_counts))"
   ]
  },
  {
   "cell_type": "code",
   "execution_count": 7,
   "metadata": {
    "collapsed": true
   },
   "outputs": [],
   "source": [
    "train_x.to_pickle(\"train_x_features8_linksonly.pkl\")\n",
    "train_y.to_pickle(\"train_y_features8_linksonly.pkl\")\n",
    "test_x.to_pickle(\"test_x_features8_linksonly.pkl\")\n",
    "test_y.to_pickle(\"test_y_features8_linksonly.pkl\")"
   ]
  },
  {
   "cell_type": "code",
   "execution_count": null,
   "metadata": {
    "collapsed": true
   },
   "outputs": [],
   "source": []
  }
 ],
 "metadata": {
  "kernelspec": {
   "display_name": "Python 3",
   "language": "python",
   "name": "python3"
  },
  "language_info": {
   "codemirror_mode": {
    "name": "ipython",
    "version": 3
   },
   "file_extension": ".py",
   "mimetype": "text/x-python",
   "name": "python",
   "nbconvert_exporter": "python",
   "pygments_lexer": "ipython3",
   "version": "3.6.3"
  }
 },
 "nbformat": 4,
 "nbformat_minor": 2
}
