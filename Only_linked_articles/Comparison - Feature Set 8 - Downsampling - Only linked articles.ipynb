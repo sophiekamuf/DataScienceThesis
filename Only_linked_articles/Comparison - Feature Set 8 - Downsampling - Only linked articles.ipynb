{
 "cells": [
  {
   "cell_type": "code",
   "execution_count": 1,
   "metadata": {
    "collapsed": true
   },
   "outputs": [],
   "source": [
    "from sklearn.linear_model import LogisticRegression\n",
    "from sklearn.naive_bayes import GaussianNB \n",
    "from sklearn.ensemble import RandomForestClassifier\n",
    "from sklearn.svm import SVC\n",
    "from sklearn import datasets\n",
    "import numpy as np\n",
    "import pandas as pd\n",
    "\n",
    "train_set8 = pd.read_pickle(\"df_train_downsampled_features8_onlylinks.pkl\")\n",
    "\n",
    "# Initializing Classifiers\n",
    "clf1 = LogisticRegression(random_state=1)\n",
    "clf2 = RandomForestClassifier(random_state=1)\n",
    "clf3 = GaussianNB()\n",
    "clf4 = SVC()\n",
    "\n",
    "# Loading some example data\n",
    "train_x_set8 = train_set8.loc[:, ['tfidf_cosine', 'tfidf_bigram_cosine', 'tfidf_trigram_cosine', 'count_vec_cosine', 'lda_50topics_cosine', 'lda_100topics_cosine', 'lda_200topics_cosine']].values\n",
    "train_y_set8 = train_set8['label'].values"
   ]
  },
  {
   "cell_type": "code",
   "execution_count": 2,
   "metadata": {
    "collapsed": true
   },
   "outputs": [],
   "source": [
    "test_x_set8 = pd.read_pickle(\"test_x_features8_linksonly.pkl\")\n",
    "test_y_set8 = pd.read_pickle(\"test_y_features8_linksonly.pkl\")\n",
    "test_x_set8_xgboost = test_x_set8.loc[:, ['tfidf_cosine', 'tfidf_bigram_cosine', 'tfidf_trigram_cosine', 'count_vec_cosine', 'lda_50topics_cosine', 'lda_100topics_cosine', 'lda_200topics_cosine']].values\n",
    "test_y_set8_xgboost = test_y_set8['label'].values"
   ]
  },
  {
   "cell_type": "code",
   "execution_count": 3,
   "metadata": {
    "collapsed": true
   },
   "outputs": [],
   "source": [
    "from sklearn.metrics import f1_score\n",
    "from sklearn.metrics import recall_score\n",
    "from sklearn.metrics import precision_score\n",
    "from sklearn.metrics import accuracy_score\n",
    "from sklearn.metrics import confusion_matrix"
   ]
  },
  {
   "cell_type": "code",
   "execution_count": 4,
   "metadata": {},
   "outputs": [
    {
     "data": {
      "text/plain": [
       "LogisticRegression(C=1.0, class_weight=None, dual=False, fit_intercept=True,\n",
       "          intercept_scaling=1, max_iter=100, multi_class='ovr', n_jobs=1,\n",
       "          penalty='l2', random_state=1, solver='liblinear', tol=0.0001,\n",
       "          verbose=0, warm_start=False)"
      ]
     },
     "execution_count": 4,
     "metadata": {},
     "output_type": "execute_result"
    }
   ],
   "source": [
    "clf1.fit(train_x_set8, train_y_set8)"
   ]
  },
  {
   "cell_type": "code",
   "execution_count": 5,
   "metadata": {
    "collapsed": true
   },
   "outputs": [],
   "source": [
    "predictions1 = clf1.predict(test_x_set8)"
   ]
  },
  {
   "cell_type": "code",
   "execution_count": 6,
   "metadata": {},
   "outputs": [
    {
     "name": "stdout",
     "output_type": "stream",
     "text": [
      "Logistic Regression:\n",
      "Accuracy: 0.8247872852785358\n",
      "F1 score: 0.04010554089709763\n",
      "Recall: 0.6647230320699709\n",
      "Precision: 0.020676521265983495\n"
     ]
    }
   ],
   "source": [
    "print('Logistic Regression:')\n",
    "print('Accuracy:', accuracy_score(test_y_set8, predictions1))\n",
    "print('F1 score:', f1_score(test_y_set8, predictions1))\n",
    "print('Recall:', recall_score(test_y_set8, predictions1))\n",
    "print('Precision:', precision_score(test_y_set8, predictions1))"
   ]
  },
  {
   "cell_type": "code",
   "execution_count": 7,
   "metadata": {
    "scrolled": true
   },
   "outputs": [
    {
     "data": {
      "text/plain": [
       "RandomForestClassifier(bootstrap=True, class_weight=None, criterion='gini',\n",
       "            max_depth=None, max_features='auto', max_leaf_nodes=None,\n",
       "            min_impurity_decrease=0.0, min_impurity_split=None,\n",
       "            min_samples_leaf=1, min_samples_split=2,\n",
       "            min_weight_fraction_leaf=0.0, n_estimators=10, n_jobs=1,\n",
       "            oob_score=False, random_state=1, verbose=0, warm_start=False)"
      ]
     },
     "execution_count": 7,
     "metadata": {},
     "output_type": "execute_result"
    }
   ],
   "source": [
    "clf2.fit(train_x_set8, train_y_set8)"
   ]
  },
  {
   "cell_type": "code",
   "execution_count": 8,
   "metadata": {
    "collapsed": true
   },
   "outputs": [],
   "source": [
    "predictions2 = clf2.predict(test_x_set8)"
   ]
  },
  {
   "cell_type": "code",
   "execution_count": 9,
   "metadata": {},
   "outputs": [
    {
     "name": "stdout",
     "output_type": "stream",
     "text": [
      "Random Forest:\n",
      "Accuracy: 0.8044308877829507\n",
      "F1 score: 0.03592909148464704\n",
      "Recall: 0.6618075801749271\n",
      "Precision: 0.018465793541039617\n"
     ]
    }
   ],
   "source": [
    "print('Random Forest:')\n",
    "print('Accuracy:', accuracy_score(test_y_set8, predictions2))\n",
    "print('F1 score:', f1_score(test_y_set8, predictions2))\n",
    "print('Recall:', recall_score(test_y_set8, predictions2))\n",
    "print('Precision:', precision_score(test_y_set8, predictions2))"
   ]
  },
  {
   "cell_type": "code",
   "execution_count": 10,
   "metadata": {},
   "outputs": [
    {
     "data": {
      "text/plain": [
       "GaussianNB(priors=None)"
      ]
     },
     "execution_count": 10,
     "metadata": {},
     "output_type": "execute_result"
    }
   ],
   "source": [
    "clf3.fit(train_x_set8, train_y_set8) "
   ]
  },
  {
   "cell_type": "code",
   "execution_count": 11,
   "metadata": {
    "collapsed": true
   },
   "outputs": [],
   "source": [
    "predictions3 = clf3.predict(test_x_set8)"
   ]
  },
  {
   "cell_type": "code",
   "execution_count": 12,
   "metadata": {},
   "outputs": [
    {
     "name": "stdout",
     "output_type": "stream",
     "text": [
      "GaussianNB:\n",
      "Accuracy: 0.8614223791940921\n",
      "F1 score: 0.04343971631205674\n",
      "Recall: 0.5714285714285714\n",
      "Precision: 0.022578044004146987\n"
     ]
    }
   ],
   "source": [
    "print('GaussianNB:')\n",
    "print('Accuracy:', accuracy_score(test_y_set8, predictions3))\n",
    "print('F1 score:', f1_score(test_y_set8, predictions3))\n",
    "print('Recall:', recall_score(test_y_set8, predictions3))\n",
    "print('Precision:', precision_score(test_y_set8, predictions3))"
   ]
  },
  {
   "cell_type": "code",
   "execution_count": 13,
   "metadata": {},
   "outputs": [
    {
     "data": {
      "text/plain": [
       "SVC(C=1.0, cache_size=200, class_weight=None, coef0=0.0,\n",
       "  decision_function_shape='ovr', degree=3, gamma='auto', kernel='rbf',\n",
       "  max_iter=-1, probability=False, random_state=None, shrinking=True,\n",
       "  tol=0.001, verbose=False)"
      ]
     },
     "execution_count": 13,
     "metadata": {},
     "output_type": "execute_result"
    }
   ],
   "source": [
    "clf4.fit(train_x_set8, train_y_set8) "
   ]
  },
  {
   "cell_type": "code",
   "execution_count": 14,
   "metadata": {
    "collapsed": true
   },
   "outputs": [],
   "source": [
    "predictions4 = clf4.predict(test_x_set8)"
   ]
  },
  {
   "cell_type": "code",
   "execution_count": 15,
   "metadata": {},
   "outputs": [
    {
     "name": "stdout",
     "output_type": "stream",
     "text": [
      "SVM:\n",
      "Accuracy: 0.8375662225076256\n",
      "F1 score: 0.04294362466893681\n",
      "Recall: 0.6618075801749271\n",
      "Precision: 0.02219180760582657\n"
     ]
    }
   ],
   "source": [
    "print('SVM:')\n",
    "print('Accuracy:', accuracy_score(test_y_set8, predictions4))\n",
    "print('F1 score:', f1_score(test_y_set8, predictions4))\n",
    "print('Recall:', recall_score(test_y_set8, predictions4))\n",
    "print('Precision:', precision_score(test_y_set8, predictions4))"
   ]
  },
  {
   "cell_type": "code",
   "execution_count": 16,
   "metadata": {},
   "outputs": [
    {
     "name": "stderr",
     "output_type": "stream",
     "text": [
      "/Users/sophiekamuf/anaconda3/lib/python3.6/site-packages/sklearn/cross_validation.py:41: DeprecationWarning: This module was deprecated in version 0.18 in favor of the model_selection module into which all the refactored classes and functions are moved. Also note that the interface of the new CV iterators are different from that of this module. This module will be removed in 0.20.\n",
      "  \"This module will be removed in 0.20.\", DeprecationWarning)\n"
     ]
    }
   ],
   "source": [
    "from xgboost import XGBClassifier"
   ]
  },
  {
   "cell_type": "code",
   "execution_count": 17,
   "metadata": {},
   "outputs": [
    {
     "data": {
      "text/plain": [
       "XGBClassifier(base_score=0.5, colsample_bylevel=1, colsample_bytree=1,\n",
       "       gamma=0, learning_rate=0.1, max_delta_step=0, max_depth=3,\n",
       "       min_child_weight=1, missing=None, n_estimators=100, nthread=-1,\n",
       "       objective='binary:logistic', reg_alpha=0, reg_lambda=1,\n",
       "       scale_pos_weight=1, seed=0, silent=True, subsample=1)"
      ]
     },
     "execution_count": 17,
     "metadata": {},
     "output_type": "execute_result"
    }
   ],
   "source": [
    "# fit xgboost model no training data\n",
    "model = XGBClassifier()\n",
    "model.fit(train_x_set8, train_y_set8)"
   ]
  },
  {
   "cell_type": "code",
   "execution_count": 18,
   "metadata": {},
   "outputs": [
    {
     "name": "stderr",
     "output_type": "stream",
     "text": [
      "/Users/sophiekamuf/anaconda3/lib/python3.6/site-packages/sklearn/preprocessing/label.py:151: DeprecationWarning: The truth value of an empty array is ambiguous. Returning False, but in future this will result in an error. Use `array.size > 0` to check that an array is not empty.\n",
      "  if diff:\n"
     ]
    }
   ],
   "source": [
    "predictions5 = model.predict(test_x_set8_xgboost)"
   ]
  },
  {
   "cell_type": "code",
   "execution_count": 19,
   "metadata": {},
   "outputs": [
    {
     "name": "stdout",
     "output_type": "stream",
     "text": [
      "XGBoost:\n",
      "Accuracy: 0.7832236314015091\n",
      "F1 score: 0.03556888793657596\n",
      "Recall: 0.7259475218658892\n",
      "Precision: 0.018231073363596428\n"
     ]
    }
   ],
   "source": [
    "print('XGBoost:')\n",
    "print('Accuracy:', accuracy_score(test_y_set8_xgboost, predictions5))\n",
    "print('F1 score:', f1_score(test_y_set8_xgboost, predictions5))\n",
    "print('Recall:', recall_score(test_y_set8_xgboost, predictions5))\n",
    "print('Precision:', precision_score(test_y_set8_xgboost, predictions5))"
   ]
  },
  {
   "cell_type": "code",
   "execution_count": 20,
   "metadata": {
    "collapsed": true
   },
   "outputs": [],
   "source": [
    "from sklearn.neural_network import MLPClassifier"
   ]
  },
  {
   "cell_type": "code",
   "execution_count": 21,
   "metadata": {
    "collapsed": true
   },
   "outputs": [],
   "source": [
    "mlp = MLPClassifier(solver='lbfgs', alpha=1e-5,\n",
    "                    hidden_layer_sizes=(5, 2), random_state=1)"
   ]
  },
  {
   "cell_type": "code",
   "execution_count": 22,
   "metadata": {},
   "outputs": [
    {
     "data": {
      "text/plain": [
       "MLPClassifier(activation='relu', alpha=1e-05, batch_size='auto', beta_1=0.9,\n",
       "       beta_2=0.999, early_stopping=False, epsilon=1e-08,\n",
       "       hidden_layer_sizes=(5, 2), learning_rate='constant',\n",
       "       learning_rate_init=0.001, max_iter=200, momentum=0.9,\n",
       "       nesterovs_momentum=True, power_t=0.5, random_state=1, shuffle=True,\n",
       "       solver='lbfgs', tol=0.0001, validation_fraction=0.1, verbose=False,\n",
       "       warm_start=False)"
      ]
     },
     "execution_count": 22,
     "metadata": {},
     "output_type": "execute_result"
    }
   ],
   "source": [
    "mlp.fit(train_x_set8, train_y_set8)"
   ]
  },
  {
   "cell_type": "code",
   "execution_count": 23,
   "metadata": {
    "collapsed": true
   },
   "outputs": [],
   "source": [
    "predictions6 = mlp.predict(test_x_set8_xgboost)"
   ]
  },
  {
   "cell_type": "code",
   "execution_count": 24,
   "metadata": {},
   "outputs": [
    {
     "name": "stdout",
     "output_type": "stream",
     "text": [
      "MLP - multi-layer perceptron:\n",
      "Accuracy: 0.7791780382083802\n",
      "F1 score: 0.03521077365504665\n",
      "Recall: 0.7317784256559767\n",
      "Precision: 0.01803938479229553\n"
     ]
    }
   ],
   "source": [
    "print('MLP - multi-layer perceptron:')\n",
    "print('Accuracy:', accuracy_score(test_y_set8_xgboost, predictions6))\n",
    "print('F1 score:', f1_score(test_y_set8_xgboost, predictions6))\n",
    "print('Recall:', recall_score(test_y_set8_xgboost, predictions6))\n",
    "print('Precision:', precision_score(test_y_set8_xgboost, predictions6))"
   ]
  },
  {
   "cell_type": "code",
   "execution_count": 25,
   "metadata": {},
   "outputs": [
    {
     "data": {
      "text/plain": [
       "<Figure size 8000x13440 with 0 Axes>"
      ]
     },
     "metadata": {},
     "output_type": "display_data"
    }
   ],
   "source": [
    "%matplotlib inline\n",
    "import matplotlib.pyplot as plt\n",
    "\n",
    "# Set the style globally\n",
    "# Alternatives include bmh, fivethirtyeight, ggplot,\n",
    "# dark_background, seaborn-deep, etc\n",
    "plt.style.use('seaborn-white')\n",
    "\n",
    "plt.rcParams['font.family'] = 'serif'\n",
    "plt.rcParams['font.serif'] = 'Ubuntu'\n",
    "plt.rcParams['font.monospace'] = 'Ubuntu Mono'\n",
    "plt.rcParams['font.size'] = 10\n",
    "plt.rcParams['axes.labelsize'] = 10\n",
    "plt.rcParams['axes.labelweight'] = 'bold'\n",
    "plt.rcParams['axes.titlesize'] = 10\n",
    "plt.rcParams['xtick.labelsize'] = 8\n",
    "plt.rcParams['ytick.labelsize'] = 8\n",
    "plt.rcParams['legend.fontsize'] = 10\n",
    "plt.rcParams['figure.titlesize'] = 12\n",
    "\n",
    "# Set an aspect ratio\n",
    "width, height = plt.figaspect(1.68)\n",
    "fig = plt.figure(figsize=(width,height), dpi=2000)"
   ]
  },
  {
   "cell_type": "code",
   "execution_count": 10,
   "metadata": {},
   "outputs": [
    {
     "name": "stderr",
     "output_type": "stream",
     "text": [
      "/Users/sophiekamuf/anaconda3/lib/python3.6/site-packages/matplotlib/font_manager.py:1328: UserWarning: findfont: Font family ['serif'] not found. Falling back to DejaVu Sans\n",
      "  (prop.get_family(), self.defaultFamily[fontext]))\n"
     ]
    },
    {
     "data": {
      "image/png": "[encoded data removed]",
      "text/plain": [
       "<Figure size 432x288 with 1 Axes>"
      ]
     },
     "metadata": {},
     "output_type": "display_data"
    }
   ],
   "source": [
    "# Marketing channels line plot\n",
    "ax3 = plt.subplot(2,2,(3,4))\n",
    "y_series = [1,2,3,4,5,6]\n",
    "x_1 = [0.01607309590502868, 0.013930523717157467, 0.019151231792843015, 0.017064846416382253, 0.013999118165784832, 0.012550703889286566\n",
    "]\n",
    "x_2 = [0.7259036144578314, 0.713855421686747, 0.641566265060241, 0.7228915662650602, 0.7650602409638554, 0.7921686746987951]\n",
    "#x_3 = [0.031449823828787686, 0.027327760161429807, 0.03719224724986904, 0.0333425951653237, 0.027495128815760987, 0.024709916850660027]\n",
    "ax3.plot(y_series, x_1, linewidth=2, linestyle=':', marker='o', label='Precision')\n",
    "ax3.plot(y_series, x_2, linewidth=2, linestyle='--', marker='v', label='Recall')\n",
    "ax3.plot(y_series, x_3, linewidth=2, linestyle='-.', marker='s', label='F1-Score')\n",
    "plt.xlabel('Method')\n",
    "plt.ylabel('Performance Scores')\n",
    "plt.xticks([1,2,3,4,5,6], ['LR', 'RF', 'NB', 'SVM', 'XGB', 'MLP'])\n",
    "#ax2.tick_params(axis='x', pad=8)\n",
    "leg=plt.legend(loc='best', numpoints=1, fancybox=True)\n",
    "\n",
    "# Axes alteration to put zero values inside the figure Axes\n",
    "# Avoids axis white lines cutting through zero values - fivethirtyeight style\n",
    "xmin, xmax, ymin, ymax = ax3.axis()\n",
    "ax3.axis([xmin-0.1, xmax+0.1, ymin-0.1, ymax+0.4])\n",
    "#ax3.set_title('Leads by channel', fontstyle='italic')\n",
    "\n",
    "# Space plots a bit\n",
    "plt.subplots_adjust(hspace=0.25, wspace=0.40)\n",
    "\n",
    "fig.suptitle(\"Seaborn-white style example\")\n",
    "plt.savefig('f8_downsampling_withF1.svg', bbox_inches='tight')"
   ]
  },
  {
   "cell_type": "code",
   "execution_count": null,
   "metadata": {
    "collapsed": true
   },
   "outputs": [],
   "source": []
  }
 ],
 "metadata": {
  "kernelspec": {
   "display_name": "Python 3",
   "language": "python",
   "name": "python3"
  },
  "language_info": {
   "codemirror_mode": {
    "name": "ipython",
    "version": 3
   },
   "file_extension": ".py",
   "mimetype": "text/x-python",
   "name": "python",
   "nbconvert_exporter": "python",
   "pygments_lexer": "ipython3",
   "version": "3.6.3"
  }
 },
 "nbformat": 4,
 "nbformat_minor": 2
}
